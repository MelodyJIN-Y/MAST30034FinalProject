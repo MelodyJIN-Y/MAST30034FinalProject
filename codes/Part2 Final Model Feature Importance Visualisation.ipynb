{
 "cells": [
  {
   "cell_type": "code",
   "execution_count": 1,
   "metadata": {},
   "outputs": [],
   "source": [
    "import pandas as pd\n",
    "import numpy as np\n",
    "import seaborn as sns \n",
    "import warnings\n",
    "warnings.filterwarnings(\"ignore\")\n",
    "import matplotlib.pyplot as plt\n",
    "from statsmodels.formula.api import *\n",
    "from sklearn.model_selection import train_test_split \n",
    "from sklearn.metrics import mean_squared_error\n",
    "import lightgbm \n",
    "from lightgbm import LGBMRegressor"
   ]
  },
  {
   "cell_type": "code",
   "execution_count": 2,
   "metadata": {},
   "outputs": [
    {
     "name": "stdout",
     "output_type": "stream",
     "text": [
      "<class 'pandas.core.frame.DataFrame'>\n",
      "RangeIndex: 200000 entries, 0 to 199999\n",
      "Data columns (total 20 columns):\n",
      " #   Column         Non-Null Count   Dtype  \n",
      "---  ------         --------------   -----  \n",
      " 0   year           200000 non-null  int64  \n",
      " 1   month          200000 non-null  int64  \n",
      " 2   day            200000 non-null  int64  \n",
      " 3   latitude       200000 non-null  float64\n",
      " 4   longitude      200000 non-null  float64\n",
      " 5   week_of_day    200000 non-null  int64  \n",
      " 6   pack           200000 non-null  int64  \n",
      " 7   city           200000 non-null  object \n",
      " 8   category       200000 non-null  int64  \n",
      " 9   county_number  200000 non-null  int64  \n",
      " 10  county         200000 non-null  object \n",
      " 11  store_num      200000 non-null  int64  \n",
      " 12  item_number    200000 non-null  int64  \n",
      " 13  bottle_volume  200000 non-null  int64  \n",
      " 14  cost_price     200000 non-null  float64\n",
      " 15  retail_price   200000 non-null  float64\n",
      " 16  volume_sold    200000 non-null  float64\n",
      " 17  store_number   200000 non-null  int64  \n",
      " 18  encoded_city   200000 non-null  int64  \n",
      " 19  population     200000 non-null  int64  \n",
      "dtypes: float64(5), int64(13), object(2)\n",
      "memory usage: 30.5+ MB\n"
     ]
    }
   ],
   "source": [
    "def pre_processing(name):\n",
    "    # load data\n",
    "    data = pd.read_csv(name)\n",
    "    data = data.iloc[:, 1:]\n",
    "    data.info()\n",
    "    \n",
    "    data[\"city\"] = data[\"city\"].astype(\"category\")\n",
    "    data[\"category\"] = data[\"category\"].astype(\"category\")\n",
    "    data[\"county_number\"] = data[\"county_number\"].astype(\"category\")\n",
    "    data[\"item_number\"] = data[\"item_number\"].astype(\"category\")\n",
    "    data[\"store_number\"] = data[\"store_number\"].astype(\"category\")\n",
    "    data[\"encoded_city\"] = data[\"encoded_city\"].astype(\"category\")\n",
    "    data[\"population\"] = data[\"population\"].astype(\"int\")\n",
    "    return data\n",
    "\n",
    "data_train = pre_processing(\"data_200k_latest.csv\")"
   ]
  },
  {
   "cell_type": "code",
   "execution_count": 3,
   "metadata": {},
   "outputs": [],
   "source": [
    "X = data_train[['week_of_day', 'pack', 'store_num', 'bottle_volume', \n",
    "                'cost_price', 'retail_price', 'population', 'encoded_city',\n",
    "                'category', 'county_number', 'store_number', 'item_number']]\n",
    "\n",
    "y = data_train.volume_sold\n",
    "X_train, X_test, y_train, y_test = train_test_split(X, y, test_size = 0.3, random_state = 100)"
   ]
  },
  {
   "cell_type": "code",
   "execution_count": 4,
   "metadata": {},
   "outputs": [
    {
     "data": {
      "text/plain": [
       "LGBMRegressor(max_depth=16, num_leaves=99, random_state=100)"
      ]
     },
     "execution_count": 4,
     "metadata": {},
     "output_type": "execute_result"
    }
   ],
   "source": [
    "depth = 16\n",
    "leaves = 99\n",
    "\n",
    "lgbm_model = LGBMRegressor(max_depth= depth,num_leaves = leaves,random_state= 100)\n",
    "lgbm_model.fit(X_train, y_train)"
   ]
  },
  {
   "cell_type": "code",
   "execution_count": 5,
   "metadata": {},
   "outputs": [
    {
     "data": {
      "text/plain": [
       "[('store_number', 2543),\n",
       " ('item_number', 2076),\n",
       " ('category', 989),\n",
       " ('encoded_city', 745),\n",
       " ('retail_price', 734),\n",
       " ('population', 674),\n",
       " ('cost_price', 621),\n",
       " ('county_number', 436),\n",
       " ('bottle_volume', 362),\n",
       " ('week_of_day', 271),\n",
       " ('pack', 186),\n",
       " ('store_num', 163)]"
      ]
     },
     "execution_count": 5,
     "metadata": {},
     "output_type": "execute_result"
    }
   ],
   "source": [
    "features = list(X.columns)\n",
    "importance = list(lgbm_model.feature_importances_)\n",
    "importance_dict = {}\n",
    "for i in range(len(features)):\n",
    "    importance_dict[features[i]] = importance[i]\n",
    "importance = sorted(importance_dict.items(), key = lambda item: abs(item[1]), reverse = True)\n",
    "importance"
   ]
  },
  {
   "cell_type": "code",
   "execution_count": 6,
   "metadata": {},
   "outputs": [
    {
     "data": {
      "image/png": "[encoded data removed]",
      "text/plain": [
       "<Figure size 432x288 with 1 Axes>"
      ]
     },
     "metadata": {
      "needs_background": "light"
     },
     "output_type": "display_data"
    }
   ],
   "source": [
    "# Importance of attributes\n",
    "x = []\n",
    "y = []\n",
    "for i in range(len(importance)):\n",
    "    x.append(importance[i][1])\n",
    "    y.append(importance[i][0])\n",
    "plt.barh(y, x)\n",
    "plt.xlabel(\"Importance\")\n",
    "plt.ylabel(\"Attributes\")\n",
    "plt.title(\"Importance of attributes in the final model\")\n",
    "plt.show()"
   ]
  }
 ],
 "metadata": {
  "kernelspec": {
   "display_name": "Python 3",
   "language": "python",
   "name": "python3"
  },
  "language_info": {
   "codemirror_mode": {
    "name": "ipython",
    "version": 3
   },
   "file_extension": ".py",
   "mimetype": "text/x-python",
   "name": "python",
   "nbconvert_exporter": "python",
   "pygments_lexer": "ipython3",
   "version": "3.6.9"
  }
 },
 "nbformat": 4,
 "nbformat_minor": 4
}
