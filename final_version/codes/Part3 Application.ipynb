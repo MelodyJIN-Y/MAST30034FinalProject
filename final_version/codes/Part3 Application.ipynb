{
 "cells": [
  {
   "cell_type": "code",
   "execution_count": 1,
   "metadata": {},
   "outputs": [],
   "source": [
    "#!pip3 install lightgbm\n",
    "import pandas as pd\n",
    "import numpy as np\n",
    "import seaborn as sns \n",
    "import warnings\n",
    "warnings.filterwarnings(\"ignore\")\n",
    "import matplotlib.pyplot as plt\n",
    "import re\n",
    "from sklearn import preprocessing\n",
    "from collections import Counter\n",
    "from sklearn.model_selection import train_test_split \n",
    "from sklearn.metrics import mean_squared_error\n",
    "import lightgbm \n",
    "from lightgbm import LGBMRegressor\n",
    "from sklearn.metrics import r2_score"
   ]
  },
  {
   "cell_type": "code",
   "execution_count": 2,
   "metadata": {},
   "outputs": [
    {
     "name": "stdout",
     "output_type": "stream",
     "text": [
      "The entire dataset dimension:  (19666763, 24)\n",
      "Attributes: Index(['Invoice/Item Number', 'Date', 'Store Number', 'Store Name', 'Address',\n",
      "       'City', 'Zip Code', 'Store Location', 'County Number', 'County',\n",
      "       'Category', 'Category Name', 'Vendor Number', 'Vendor Name',\n",
      "       'Item Number', 'Item Description', 'Pack', 'Bottle Volume (ml)',\n",
      "       'State Bottle Cost', 'State Bottle Retail', 'Bottles Sold',\n",
      "       'Sale (Dollars)', 'Volume Sold (Liters)', 'Volume Sold (Gallons)'],\n",
      "      dtype='object')\n"
     ]
    }
   ],
   "source": [
    "data_all = pd.read_csv(\"Iowa_Liquor_Sales.csv\")\n",
    "print(\"The entire dataset dimension: \",data_all.shape) #19666763, 24)\n",
    "print(\"Attributes:\",data_all.columns) # 19666763, 24)"
   ]
  },
  {
   "cell_type": "code",
   "execution_count": 3,
   "metadata": {},
   "outputs": [
    {
     "name": "stdout",
     "output_type": "stream",
     "text": [
      "Missing values:\n",
      " Invoice/Item Number            0\n",
      "Date                           0\n",
      "Store Number                   0\n",
      "Store Name                     0\n",
      "Address                    79927\n",
      "City                       79926\n",
      "Zip Code                   79971\n",
      "Store Location           1886023\n",
      "County Number             156731\n",
      "County                    156729\n",
      "Category                   16974\n",
      "Category Name              25040\n",
      "Vendor Number                  5\n",
      "Vendor Name                    3\n",
      "Item Number                    0\n",
      "Item Description               0\n",
      "Pack                           0\n",
      "Bottle Volume (ml)             0\n",
      "State Bottle Cost             10\n",
      "State Bottle Retail           10\n",
      "Bottles Sold                   0\n",
      "Sale (Dollars)                10\n",
      "Volume Sold (Liters)           0\n",
      "Volume Sold (Gallons)          0\n",
      "dtype: int64\n"
     ]
    }
   ],
   "source": [
    "# check missing values \n",
    "print(\"Missing values:\\n\",data_all.isnull().sum()) "
   ]
  },
  {
   "cell_type": "code",
   "execution_count": 4,
   "metadata": {},
   "outputs": [
    {
     "name": "stdout",
     "output_type": "stream",
     "text": [
      "Missing value percentage is 10.062037153750213%.\n",
      "Total missing values is 2481359.\n",
      "Average number of null values per record is 1.253922805712533.\n"
     ]
    }
   ],
   "source": [
    "missing_records_num = data_all[data_all.isnull().any(axis=1)].shape[0]\n",
    "missing_records_num #95103\n",
    "print(f\"Missing value percentage is {100*missing_records_num / data_all.shape[0]}%.\") #10.062037153750213\n",
    "print(f\"Total missing values is {sum(data_all.isnull().sum())}.\") #2481359\n",
    "print(f\"Average number of null values per record\" \\\n",
    "      f\" is {sum(data_all.isnull().sum()) / missing_records_num}.\") #1.253922805712533."
   ]
  },
  {
   "cell_type": "code",
   "execution_count": 5,
   "metadata": {},
   "outputs": [],
   "source": [
    "# drop records with missing values \n",
    "data_all = data_all.dropna()"
   ]
  },
  {
   "cell_type": "code",
   "execution_count": 6,
   "metadata": {},
   "outputs": [
    {
     "name": "stdout",
     "output_type": "stream",
     "text": [
      "(17687886, 24)\n"
     ]
    }
   ],
   "source": [
    "data = data_all\n",
    "data.Category.value_counts()\n",
    "print(data.shape)#(17687886, 24)"
   ]
  },
  {
   "cell_type": "markdown",
   "metadata": {},
   "source": [
    "# Pre-processing"
   ]
  },
  {
   "cell_type": "code",
   "execution_count": 7,
   "metadata": {},
   "outputs": [],
   "source": [
    "county_counts = data.groupby(\"County\").size().shape[0] #county counts 200\n",
    "real_county_counts = data.groupby(\"County Number\").size().shape[0] #99\n",
    "\n",
    "data[\"County\"] = data[\"County\"].str.title() #case sensitive\n",
    "exist_county_counts = data.groupby(\"County\").size().shape #103\n",
    "\n",
    "data[\"City\"] = data[\"City\"].str.title() #case sensitive"
   ]
  },
  {
   "cell_type": "code",
   "execution_count": 8,
   "metadata": {},
   "outputs": [
    {
     "name": "stdout",
     "output_type": "stream",
     "text": [
      "Counties with the same county number but conflicting names\n",
      "           County  County Number    Date\n",
      "10     Buena Vist           11.0   71360\n",
      "11    Buena Vista           11.0   89480\n",
      "17     Cerro Gord           17.0  211992\n",
      "18    Cerro Gordo           17.0  228400\n",
      "72        O'Brien           71.0   63180\n",
      "73         Obrien           71.0   69812\n",
      "80     Pottawatta           78.0  296991\n",
      "81  Pottawattamie           78.0  299164\n"
     ]
    }
   ],
   "source": [
    "#pd.set_option('display.max_rows', 10)\n",
    "county_countN_df = data.loc[:,[\"County\",\"County Number\",\"Date\"]].groupby([\"County\",\"County Number\"]).count().reset_index()\n",
    "print(\"Counties with the same county number but conflicting names\")\n",
    "county_countN_df[\"County Number\"].value_counts()\n",
    "print(county_countN_df.loc[county_countN_df[\"County Number\"].isin([71.0, 78.0,17.0, 11.0]),:])\n",
    "\n",
    "data.County = data.County.replace([\"Buena Vist\",\"Cerro Gord\",\n",
    "                                   \"O'Brien\",\"O'brien\",\"Pottawatta\"], \n",
    "                                  [\"Buena Vista\",\"Cerro Gordo\",\n",
    "                                    \"Obrien\",\"Obrien\", \"Pottawattamie\"])"
   ]
  },
  {
   "cell_type": "code",
   "execution_count": 9,
   "metadata": {},
   "outputs": [],
   "source": [
    "# convert data types \n",
    "data[\"Date\"]  = pd.to_datetime(data['Date'],format='%m/%d/%Y')\n",
    "data['year'] = pd.DatetimeIndex(data['Date']).year\n",
    "data['month'] = pd.DatetimeIndex(data['Date']).month\n",
    "data[\"month\"] = data[\"month\"].astype(\"category\")\n",
    "data['day'] = pd.DatetimeIndex(data['Date']).day\n",
    "data[\"day\"] = data[\"day\"].astype(\"category\")\n",
    "data[\"week_of_day\"] = data[\"Date\"].dt.dayofweek+1\n",
    "data[\"week_of_day\"] = data[\"week_of_day\"].astype(\"category\")\n",
    "\n",
    "data[\"Store Number\"] = data[\"Store Number\"].astype(\"category\")\n",
    "data[\"Item Number\"] = data[\"Item Number\"].astype(\"category\")\n",
    "data[\"County Number\"] = data[\"County Number\"].astype(\"int\")\n",
    "data[\"County Number\"] = data[\"County Number\"].astype(\"category\")\n",
    "data[\"Category\"] = data[\"Category\"].astype(\"int\")\n",
    "data[\"Category\"] = data[\"Category\"].astype(\"category\")\n",
    "data[\"City\"] = data[\"City\"].astype(\"category\")\n",
    "data[\"Sale (Dollars)\"] = data[\"Sale (Dollars)\"].astype(\"str\")\n",
    "data[\"State Bottle Cost\"] = data[\"State Bottle Cost\"].astype(\"str\")\n",
    "data[\"State Bottle Retail\"] = data[\"State Bottle Retail\"].astype(\"str\")\n",
    "\n",
    "data.loc[:,\"Sale (Dollars)\"] = data.loc[:, \"Sale (Dollars)\"].str[1:]\n",
    "data.loc[:,\"State Bottle Cost\"] = data.loc[:, \"State Bottle Cost\"].str[1:]\n",
    "data.loc[:,\"State Bottle Retail\"] = data.loc[:, \"State Bottle Retail\"].str[1:]\n",
    "data[\"Sale (Dollars)\"] = data[\"Sale (Dollars)\"].astype(\"float\")\n",
    "data[\"State Bottle Cost\"] = data[\"State Bottle Cost\"].astype(\"float\")\n",
    "data[\"State Bottle Retail\"] = data[\"State Bottle Retail\"].astype(\"float\")"
   ]
  },
  {
   "cell_type": "code",
   "execution_count": 10,
   "metadata": {},
   "outputs": [],
   "source": [
    "# covert string representation of city to interger representation\n",
    "encoder = preprocessing.LabelEncoder().fit(data.City)\n",
    "data[\"encoded_city\"] = encoder.transform(data.City)\n",
    "data[\"encoded_city\"] = data[\"encoded_city\"].astype(\"category\")"
   ]
  },
  {
   "cell_type": "code",
   "execution_count": 11,
   "metadata": {},
   "outputs": [
    {
     "data": {
      "text/plain": [
       "2019    2158261\n",
       "2020    1760082\n",
       "Name: year, dtype: int64"
      ]
     },
     "execution_count": 11,
     "metadata": {},
     "output_type": "execute_result"
    }
   ],
   "source": [
    "data[data[\"year\"].isin([2019, 2020])].year.value_counts()"
   ]
  },
  {
   "cell_type": "code",
   "execution_count": 12,
   "metadata": {
    "scrolled": true
   },
   "outputs": [
    {
     "data": {
      "text/plain": [
       "(3448996, 29)"
      ]
     },
     "execution_count": 12,
     "metadata": {},
     "output_type": "execute_result"
    }
   ],
   "source": [
    "# remove potential errors \n",
    "cond1 = data[\"Bottle Volume (ml)\"] == 0\n",
    "cond2 = data[\"State Bottle Cost\"] == 0\n",
    "cond3 = data[\"State Bottle Retail\"] == 0\n",
    "cond4 = data[\"Sale (Dollars)\"] == 0\n",
    "cond5 = data[\"Bottles Sold\"] ==0\n",
    "cond6 = data[\"Volume Sold (Liters)\"] ==0\n",
    "data = data.loc[~(cond1|cond2|cond3|cond4|cond5|cond6),:] \n",
    "data = data[data[\"year\"].isin([2019, 2020])]\n",
    "data.shape\n",
    "# (3448996, 29)"
   ]
  },
  {
   "cell_type": "code",
   "execution_count": 13,
   "metadata": {},
   "outputs": [
    {
     "data": {
      "text/plain": [
       "(3448152, 32)"
      ]
     },
     "execution_count": 13,
     "metadata": {},
     "output_type": "execute_result"
    }
   ],
   "source": [
    "data[\"Store Loc\"] = data[\"Store Location\"].map(lambda x:str(re.findall(r\"\\((.+?)\\)\",x)[0]).split(\" \"))\n",
    "data[\"latitude\"] = data[\"Store Loc\"].map(lambda x:x[0])\n",
    "data[\"longitude\"] = data[\"Store Loc\"].map(lambda x:x[1])\n",
    "\n",
    "data[\"latitude\"]  = data[\"latitude\"].astype(\"float\")\n",
    "data[\"longitude\"] = data[\"longitude\"].astype(\"float\")\n",
    "data_filtered = data.loc[(data['longitude'] > 40.396764305572) & (data['longitude'] < 43.580390855608) & \n",
    "            (data['latitude'] < -90.087890625) & (data['latitude'] > -96.767578125)]\n",
    "\n",
    "#-96.767578125 40.396764305572, -96.767578125 43.580390855608, -90.087890625 43.580390855608, -90.087890625 40.396764305572 \n",
    "#https://geodata.iowa.gov/dataset/boundary-state-iowa\n",
    "#original = (3448996, 32), after removing = ((3448152,, 32)\n",
    "data_filtered.shape# "
   ]
  },
  {
   "cell_type": "code",
   "execution_count": 14,
   "metadata": {},
   "outputs": [
    {
     "data": {
      "text/plain": [
       "(3377142, 32)"
      ]
     },
     "execution_count": 14,
     "metadata": {},
     "output_type": "execute_result"
    }
   ],
   "source": [
    "# check whether volume sold = bottlesold * bottle volume \n",
    "kk = data_filtered[\"Bottles Sold\"]*data_filtered[\"Bottle Volume (ml)\"]/1000 \n",
    "mismatch = kk != data_filtered[\"Volume Sold (Liters)\"] #295009\n",
    "data_filtered = data_filtered.loc[~mismatch,:]\n",
    "data_filtered.shape #3377142, 32"
   ]
  },
  {
   "cell_type": "code",
   "execution_count": 15,
   "metadata": {},
   "outputs": [
    {
     "name": "stdout",
     "output_type": "stream",
     "text": [
      "feature =  Volume Sold (Liters) : 85933 records removed 3291209 records remaning\n",
      "feature =  State Bottle Cost : 58701 records removed 3232508 records remaning\n",
      "feature =  State Bottle Retail : 553 records removed 3231955 records remaning\n",
      "feature =  Pack : 106640 records removed 3125315 records remaning\n"
     ]
    }
   ],
   "source": [
    "def drop_3IQR_val(df, col_name):\n",
    "    q1 = df[col_name].quantile(0.25)\n",
    "    q3 = df[col_name].quantile(0.75)\n",
    "    IQR = q3 - q1\n",
    "    df_new = df.drop(df[(df[col_name] > q3 + 3*IQR) | (df[col_name] < q1 - 3*IQR)].index)\n",
    "    print(\"feature = \",col_name, \":\",df.shape[0]- df_new.shape[0],\"records removed\",df_new.shape[0],\"records remaning\" )\n",
    "    return (df_new)\n",
    "\n",
    "targeted_features = [\"Volume Sold (Liters)\",\"State Bottle Cost\",\n",
    "                     \"State Bottle Retail\",\"Pack\"]\n",
    "for i in targeted_features:\n",
    "    data_filtered = drop_3IQR_val(data_filtered, i)\n",
    "#3125315"
   ]
  },
  {
   "cell_type": "code",
   "execution_count": 16,
   "metadata": {},
   "outputs": [
    {
     "data": {
      "text/plain": [
       "(3125315, 33)"
      ]
     },
     "execution_count": 16,
     "metadata": {},
     "output_type": "execute_result"
    }
   ],
   "source": [
    "num_store_per_county = data_filtered[['Store Number','County Number',\"Invoice/Item Number\"]].groupby([\"County Number\",\"Store Number\"])\n",
    "z = list(num_store_per_county.groups.keys())\n",
    "store_num_counter = Counter(elem[0] for elem in z)\n",
    "df_store = pd.DataFrame.from_dict(store_num_counter, orient = \"index\").reset_index()\n",
    "df_store.columns = [\"County Number\",\"store_num\"]\n",
    "\n",
    "data_filtered = pd.merge(data_filtered, df_store, how = \"left\", on = ['County Number'])\n",
    "data_filtered.shape #(3125315, 33)"
   ]
  },
  {
   "cell_type": "code",
   "execution_count": 17,
   "metadata": {},
   "outputs": [],
   "source": [
    "data_filtered = data_filtered[['year', 'month', 'day', 'latitude','longitude',\n",
    "                            'week_of_day','Pack','City', 'Category','County Number',\n",
    "                            'County', 'store_num', 'Item Number','Bottle Volume (ml)',\n",
    "                            'State Bottle Cost', 'State Bottle Retail',\n",
    "                            'Volume Sold (Liters)','Store Number', 'encoded_city']]\n",
    "data_filtered.rename(columns = {\"County Number\":\"county_number\", \n",
    "                             \"Volume Sold (Liters)\":\"volume_sold\",\n",
    "                             \"Pack\":\"pack\",\n",
    "                             \"City\":\"city\",\"Category\":\"category\",\n",
    "                             \"Store Number\":\"store_number\",\n",
    "                             \"State Bottle Retail\":\"retail_price\",\n",
    "                             \"State Bottle Cost\":\"cost_price\",\n",
    "                             \"County Number\":\"county_number\",\n",
    "                             \"County\": \"county\",\n",
    "                             \"Item Number\":\"item_number\",\n",
    "                             \"Bottle Volume (ml)\":\"bottle_volume\"}, inplace = True)"
   ]
  },
  {
   "cell_type": "code",
   "execution_count": 18,
   "metadata": {
    "scrolled": true
   },
   "outputs": [
    {
     "data": {
      "text/plain": [
       "year                int64\n",
       "month            category\n",
       "day              category\n",
       "latitude          float64\n",
       "longitude         float64\n",
       "week_of_day      category\n",
       "pack                int64\n",
       "city             category\n",
       "category         category\n",
       "county_number    category\n",
       "county             object\n",
       "store_num           int64\n",
       "item_number      category\n",
       "bottle_volume       int64\n",
       "cost_price        float64\n",
       "retail_price      float64\n",
       "volume_sold       float64\n",
       "store_number     category\n",
       "encoded_city     category\n",
       "dtype: object"
      ]
     },
     "execution_count": 18,
     "metadata": {},
     "output_type": "execute_result"
    }
   ],
   "source": [
    "data_filtered[\"county_number\"] = data_filtered[\"county_number\"].astype(\"category\")\n",
    "data_filtered.dtypes"
   ]
  },
  {
   "cell_type": "code",
   "execution_count": 19,
   "metadata": {},
   "outputs": [],
   "source": [
    "d_2019 = data_filtered.year ==2019\n",
    "d_2020 = data_filtered.year ==2020\n",
    "\n",
    "data_2019 = data_filtered.loc[d_2019,:]\n",
    "data_2020 = data_filtered.loc[~d_2019,:]\n",
    "\n",
    "data_final_2019 = data_2019.sample(n = 100000, replace = False, random_state = 100)\n",
    "data_final_2020 = data_2020.sample(n = 100000, replace = False, random_state = 100)"
   ]
  },
  {
   "cell_type": "code",
   "execution_count": 20,
   "metadata": {},
   "outputs": [],
   "source": [
    "population_2019 = pd.read_csv(\"2019_population.csv\")\n",
    "population_2020 = pd.read_csv(\"2020_population.csv\")\n",
    "population_2019 = population_2019[[\"population\",'county']]\n",
    "population_2020 = population_2020[[\"population\",'county']]\n",
    "#population.population = population.population.astype(\"int\")\n",
    "data_final_2019 = pd.merge(data_final_2019,population_2019,how = \"left\")\n",
    "data_final_2020 = pd.merge(data_final_2020,population_2020,how = \"left\")"
   ]
  },
  {
   "cell_type": "code",
   "execution_count": 21,
   "metadata": {},
   "outputs": [],
   "source": [
    "data_final_2019.to_csv(\"data_2019_100k.csv\")\n",
    "data_final_2020.to_csv(\"data_2020_100k.csv\")"
   ]
  },
  {
   "cell_type": "markdown",
   "metadata": {},
   "source": [
    "# Application"
   ]
  },
  {
   "cell_type": "code",
   "execution_count": 22,
   "metadata": {},
   "outputs": [
    {
     "name": "stdout",
     "output_type": "stream",
     "text": [
      "<class 'pandas.core.frame.DataFrame'>\n",
      "RangeIndex: 200000 entries, 0 to 199999\n",
      "Data columns (total 13 columns):\n",
      " #   Column         Non-Null Count   Dtype  \n",
      "---  ------         --------------   -----  \n",
      " 0   week_of_day    200000 non-null  int64  \n",
      " 1   city           200000 non-null  object \n",
      " 2   category       200000 non-null  int64  \n",
      " 3   county_number  200000 non-null  int64  \n",
      " 4   county         200000 non-null  object \n",
      " 5   item_number    200000 non-null  int64  \n",
      " 6   bottle_volume  200000 non-null  int64  \n",
      " 7   cost_price     200000 non-null  float64\n",
      " 8   retail_price   200000 non-null  float64\n",
      " 9   volume_sold    200000 non-null  float64\n",
      " 10  store_number   200000 non-null  int64  \n",
      " 11  encoded_city   200000 non-null  int64  \n",
      " 12  population     200000 non-null  int64  \n",
      "dtypes: float64(3), int64(8), object(2)\n",
      "memory usage: 19.8+ MB\n",
      "<class 'pandas.core.frame.DataFrame'>\n",
      "RangeIndex: 100000 entries, 0 to 99999\n",
      "Data columns (total 20 columns):\n",
      " #   Column         Non-Null Count   Dtype  \n",
      "---  ------         --------------   -----  \n",
      " 0   year           100000 non-null  int64  \n",
      " 1   month          100000 non-null  int64  \n",
      " 2   day            100000 non-null  int64  \n",
      " 3   latitude       100000 non-null  float64\n",
      " 4   longitude      100000 non-null  float64\n",
      " 5   week_of_day    100000 non-null  int64  \n",
      " 6   pack           100000 non-null  int64  \n",
      " 7   city           100000 non-null  object \n",
      " 8   category       100000 non-null  int64  \n",
      " 9   county_number  100000 non-null  int64  \n",
      " 10  county         100000 non-null  object \n",
      " 11  store_num      100000 non-null  int64  \n",
      " 12  item_number    100000 non-null  int64  \n",
      " 13  bottle_volume  100000 non-null  int64  \n",
      " 14  cost_price     100000 non-null  float64\n",
      " 15  retail_price   100000 non-null  float64\n",
      " 16  volume_sold    100000 non-null  float64\n",
      " 17  store_number   100000 non-null  int64  \n",
      " 18  encoded_city   100000 non-null  int64  \n",
      " 19  population     100000 non-null  int64  \n",
      "dtypes: float64(5), int64(13), object(2)\n",
      "memory usage: 15.3+ MB\n",
      "<class 'pandas.core.frame.DataFrame'>\n",
      "RangeIndex: 100000 entries, 0 to 99999\n",
      "Data columns (total 20 columns):\n",
      " #   Column         Non-Null Count   Dtype  \n",
      "---  ------         --------------   -----  \n",
      " 0   year           100000 non-null  int64  \n",
      " 1   month          100000 non-null  int64  \n",
      " 2   day            100000 non-null  int64  \n",
      " 3   latitude       100000 non-null  float64\n",
      " 4   longitude      100000 non-null  float64\n",
      " 5   week_of_day    100000 non-null  int64  \n",
      " 6   pack           100000 non-null  int64  \n",
      " 7   city           100000 non-null  object \n",
      " 8   category       100000 non-null  int64  \n",
      " 9   county_number  100000 non-null  int64  \n",
      " 10  county         100000 non-null  object \n",
      " 11  store_num      100000 non-null  int64  \n",
      " 12  item_number    100000 non-null  int64  \n",
      " 13  bottle_volume  100000 non-null  int64  \n",
      " 14  cost_price     100000 non-null  float64\n",
      " 15  retail_price   100000 non-null  float64\n",
      " 16  volume_sold    100000 non-null  float64\n",
      " 17  store_number   100000 non-null  int64  \n",
      " 18  encoded_city   100000 non-null  int64  \n",
      " 19  population     100000 non-null  int64  \n",
      "dtypes: float64(5), int64(13), object(2)\n",
      "memory usage: 15.3+ MB\n"
     ]
    }
   ],
   "source": [
    "def covert_data_types(name):\n",
    "    # load data\n",
    "    data = pd.read_csv(name)\n",
    "    data = data.iloc[:, 1:]\n",
    "    data.info()\n",
    "    \n",
    "    data[\"city\"] = data[\"city\"].astype(\"category\")\n",
    "    data[\"category\"] = data[\"category\"].astype(\"category\")\n",
    "    data[\"county_number\"] = data[\"county_number\"].astype(\"category\")\n",
    "    data[\"item_number\"] = data[\"item_number\"].astype(\"category\")\n",
    "    data[\"store_number\"] = data[\"store_number\"].astype(\"category\")\n",
    "    data[\"encoded_city\"] = data[\"encoded_city\"].astype(\"category\")\n",
    "    data[\"population\"] = data[\"population\"].astype(\"int\")\n",
    "    return data\n",
    "\n",
    "data_train = covert_data_types(\"data_200k_latest.csv\")\n",
    "data_2019 = covert_data_types(\"data_2019_100k.csv\")\n",
    "data_2020 = covert_data_types(\"data_2020_100k.csv\")"
   ]
  },
  {
   "cell_type": "code",
   "execution_count": 23,
   "metadata": {},
   "outputs": [],
   "source": [
    "# train-test splitting 2019\n",
    "X = data_train[['week_of_day', 'bottle_volume', \n",
    "                'cost_price', 'retail_price', 'population', 'encoded_city',\n",
    "                'category', 'county_number', 'store_number', 'item_number']]\n",
    "\n",
    "y = data_train.volume_sold\n",
    "X_train, X_test, y_train, y_test = train_test_split(X, y, test_size = 0.3, random_state = 100)\n",
    "\n",
    "X_test_2019 = data_2019[['week_of_day', 'bottle_volume', \n",
    "                'cost_price', 'retail_price', 'population', 'encoded_city',\n",
    "                'category', 'county_number', 'store_number', 'item_number']]\n",
    "y_test_2019 = data_2019.volume_sold\n",
    "\n",
    "X_test_2020 = data_2020[['week_of_day', 'bottle_volume', \n",
    "                'cost_price', 'retail_price', 'population', 'encoded_city',\n",
    "                'category', 'county_number', 'store_number', 'item_number']]\n",
    "y_test_2020 = data_2020.volume_sold"
   ]
  },
  {
   "cell_type": "code",
   "execution_count": 24,
   "metadata": {},
   "outputs": [
    {
     "name": "stdout",
     "output_type": "stream",
     "text": [
      "2019 Adjusted R2: 0.5033364841949786\n",
      "2020 Adjusted R2: 0.4872393337916553\n"
     ]
    }
   ],
   "source": [
    "depth = 17\n",
    "leaves = 98\n",
    "\n",
    "lgbm_model = LGBMRegressor(max_depth= depth,num_leaves = leaves,random_state= 100)\n",
    "lgbm_model.fit(X_train, y_train)\n",
    "\n",
    "pred_2019 = lgbm_model.predict(X_test_2019)\n",
    "r2 = r2_score(y_test_2019, pred_2019)\n",
    "lgbm_ad_2019 = 1-(1-r2)*(X_test_2019.shape[0]-1)/(X_test_2019.shape[0]-X_test_2019.shape[1]-1)\n",
    "print(\"2019 Adjusted R2: \" + str(lgbm_ad_2019))\n",
    "\n",
    "\n",
    "pred_2020 = lgbm_model.predict(X_test_2020)\n",
    "r2 = r2_score(y_test_2020, pred_2020)\n",
    "lgbm_ad_2020 = 1-(1-r2)*(X_test_2020.shape[0]-1)/(X_test_2020.shape[0]-X_test_2020.shape[1]-1)\n",
    "print(\"2020 Adjusted R2: \" + str(lgbm_ad_2020))"
   ]
  },
  {
   "cell_type": "code",
   "execution_count": 25,
   "metadata": {},
   "outputs": [
    {
     "data": {
      "image/png": "[encoded data removed]",
      "text/plain": [
       "<Figure size 432x288 with 1 Axes>"
      ]
     },
     "metadata": {
      "needs_background": "light"
     },
     "output_type": "display_data"
    }
   ],
   "source": [
    "x = [\"Testing\", \"2019_dataset\", \"2020_dataset\"]\n",
    "lgbm_ad_testing = 0.5476385684178686\n",
    "y = [lgbm_ad_testing, lgbm_ad_2019, lgbm_ad_2020]\n",
    "plt.bar(x, y)\n",
    "plt.xlabel(\"Datasets\")\n",
    "plt.ylabel(\"Adjusted R2\")\n",
    "plt.title(\"Adjusted R2 for testing and applications of 2019, 2020\")\n",
    "plt.show()"
   ]
  },
  {
   "cell_type": "code",
   "execution_count": null,
   "metadata": {},
   "outputs": [],
   "source": []
  }
 ],
 "metadata": {
  "kernelspec": {
   "display_name": "Python 3",
   "language": "python",
   "name": "python3"
  },
  "language_info": {
   "codemirror_mode": {
    "name": "ipython",
    "version": 3
   },
   "file_extension": ".py",
   "mimetype": "text/x-python",
   "name": "python",
   "nbconvert_exporter": "python",
   "pygments_lexer": "ipython3",
   "version": "3.6.9"
  }
 },
 "nbformat": 4,
 "nbformat_minor": 4
}
