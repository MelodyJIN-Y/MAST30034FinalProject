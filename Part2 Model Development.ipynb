{
 "cells": [
  {
   "cell_type": "code",
   "execution_count": 1,
   "metadata": {
    "scrolled": true
   },
   "outputs": [
    {
     "name": "stdout",
     "output_type": "stream",
     "text": [
      "Collecting bayesian-optimization\n",
      "Collecting scipy>=0.14.0 (from bayesian-optimization)\n",
      "  Using cached https://files.pythonhosted.org/packages/24/40/11b12af7f322c1e20446c037c47344d89bab4922b8859419d82cf56d796d/scipy-1.2.3-cp27-cp27mu-manylinux1_x86_64.whl\n",
      "Collecting scikit-learn>=0.18.0 (from bayesian-optimization)\n",
      "  Using cached https://files.pythonhosted.org/packages/31/9f/042db462417451e81035c3d43b722e88450c628a33dfda69777a801b0d40/scikit_learn-0.20.4-cp27-cp27mu-manylinux1_x86_64.whl\n",
      "Collecting numpy>=1.9.0 (from bayesian-optimization)\n",
      "  Using cached https://files.pythonhosted.org/packages/3a/5f/47e578b3ae79e2624e205445ab77a1848acdaa2929a00eeef6b16eaaeb20/numpy-1.16.6-cp27-cp27mu-manylinux1_x86_64.whl\n",
      "Installing collected packages: numpy, scipy, scikit-learn, bayesian-optimization\n",
      "Successfully installed bayesian-optimization-1.2.0 numpy-1.16.6 scikit-learn-0.20.4 scipy-1.2.3\n",
      "Collecting lightgbm\n",
      "  Using cached https://files.pythonhosted.org/packages/25/47/f8ef524e15ff86f5246cb4e1cee200b747ddb2536429fa021cc5f17ea40a/lightgbm-3.0.0-py2.py3-none-manylinux1_x86_64.whl\n",
      "Collecting scipy (from lightgbm)\n",
      "  Using cached https://files.pythonhosted.org/packages/24/40/11b12af7f322c1e20446c037c47344d89bab4922b8859419d82cf56d796d/scipy-1.2.3-cp27-cp27mu-manylinux1_x86_64.whl\n",
      "Collecting numpy (from lightgbm)\n",
      "  Using cached https://files.pythonhosted.org/packages/3a/5f/47e578b3ae79e2624e205445ab77a1848acdaa2929a00eeef6b16eaaeb20/numpy-1.16.6-cp27-cp27mu-manylinux1_x86_64.whl\n",
      "Collecting scikit-learn!=0.22.0 (from lightgbm)\n",
      "  Using cached https://files.pythonhosted.org/packages/31/9f/042db462417451e81035c3d43b722e88450c628a33dfda69777a801b0d40/scikit_learn-0.20.4-cp27-cp27mu-manylinux1_x86_64.whl\n",
      "Installing collected packages: numpy, scipy, scikit-learn, lightgbm\n",
      "Successfully installed lightgbm-3.0.0 numpy-1.16.6 scikit-learn-0.20.4 scipy-1.2.3\n"
     ]
    }
   ],
   "source": [
    "! pip install bayesian-optimization\n",
    "! pip install lightgbm"
   ]
  },
  {
   "cell_type": "code",
   "execution_count": 2,
   "metadata": {},
   "outputs": [],
   "source": [
    "import pandas as pd\n",
    "import numpy as np\n",
    "import seaborn as sns \n",
    "import folium\n",
    "import warnings\n",
    "warnings.filterwarnings(\"ignore\")\n",
    "import re\n",
    "import matplotlib.pyplot as plt\n",
    "from sklearn.linear_model import Lasso\n",
    "from statsmodels.formula.api import *\n",
    "from sklearn.model_selection import train_test_split \n",
    "from sklearn.metrics import mean_squared_error\n",
    "from bayes_opt import BayesianOptimization\n",
    "from sklearn.model_selection import cross_validate\n",
    "from sklearn import tree\n",
    "from sklearn.tree import DecisionTreeRegressor\n",
    "from sklearn.ensemble import RandomForestRegressor\n",
    "import lightgbm \n",
    "from lightgbm import LGBMRegressor"
   ]
  },
  {
   "cell_type": "code",
   "execution_count": 3,
   "metadata": {
    "scrolled": false
   },
   "outputs": [
    {
     "name": "stdout",
     "output_type": "stream",
     "text": [
      "<class 'pandas.core.frame.DataFrame'>\n",
      "RangeIndex: 200000 entries, 0 to 199999\n",
      "Data columns (total 20 columns):\n",
      " #   Column         Non-Null Count   Dtype  \n",
      "---  ------         --------------   -----  \n",
      " 0   year           200000 non-null  int64  \n",
      " 1   month          200000 non-null  int64  \n",
      " 2   day            200000 non-null  int64  \n",
      " 3   latitude       200000 non-null  float64\n",
      " 4   longitude      200000 non-null  float64\n",
      " 5   week_of_day    200000 non-null  int64  \n",
      " 6   pack           200000 non-null  int64  \n",
      " 7   city           200000 non-null  object \n",
      " 8   category       200000 non-null  int64  \n",
      " 9   county_number  200000 non-null  int64  \n",
      " 10  county         200000 non-null  object \n",
      " 11  store_num      200000 non-null  int64  \n",
      " 12  item_number    200000 non-null  int64  \n",
      " 13  bottle_volume  200000 non-null  int64  \n",
      " 14  cost_price     200000 non-null  float64\n",
      " 15  retail_price   200000 non-null  float64\n",
      " 16  volume_sold    200000 non-null  float64\n",
      " 17  store_number   200000 non-null  int64  \n",
      " 18  encoded_city   200000 non-null  int64  \n",
      " 19  population     200000 non-null  int64  \n",
      "dtypes: float64(5), int64(13), object(2)\n",
      "memory usage: 30.5+ MB\n"
     ]
    }
   ],
   "source": [
    "# load data\n",
    "data_final = pd.read_csv(\"data_200k_latest.csv\")\n",
    "data_final = data_final.iloc[:, 1:]\n",
    "data_final.info()"
   ]
  },
  {
   "cell_type": "code",
   "execution_count": 4,
   "metadata": {},
   "outputs": [
    {
     "data": {
      "text/html": [
       "<div>\n",
       "<style scoped>\n",
       "    .dataframe tbody tr th:only-of-type {\n",
       "        vertical-align: middle;\n",
       "    }\n",
       "\n",
       "    .dataframe tbody tr th {\n",
       "        vertical-align: top;\n",
       "    }\n",
       "\n",
       "    .dataframe thead th {\n",
       "        text-align: right;\n",
       "    }\n",
       "</style>\n",
       "<table border=\"1\" class=\"dataframe\">\n",
       "  <thead>\n",
       "    <tr style=\"text-align: right;\">\n",
       "      <th></th>\n",
       "      <th>year</th>\n",
       "      <th>month</th>\n",
       "      <th>day</th>\n",
       "      <th>latitude</th>\n",
       "      <th>longitude</th>\n",
       "      <th>week_of_day</th>\n",
       "      <th>pack</th>\n",
       "      <th>category</th>\n",
       "      <th>county_number</th>\n",
       "      <th>store_num</th>\n",
       "      <th>item_number</th>\n",
       "      <th>bottle_volume</th>\n",
       "      <th>cost_price</th>\n",
       "      <th>retail_price</th>\n",
       "      <th>volume_sold</th>\n",
       "      <th>store_number</th>\n",
       "      <th>encoded_city</th>\n",
       "      <th>population</th>\n",
       "    </tr>\n",
       "  </thead>\n",
       "  <tbody>\n",
       "    <tr>\n",
       "      <th>count</th>\n",
       "      <td>200000.000000</td>\n",
       "      <td>200000.000000</td>\n",
       "      <td>200000.000000</td>\n",
       "      <td>200000.000000</td>\n",
       "      <td>200000.000000</td>\n",
       "      <td>200000.000000</td>\n",
       "      <td>200000.000000</td>\n",
       "      <td>2.000000e+05</td>\n",
       "      <td>200000.000000</td>\n",
       "      <td>200000.000000</td>\n",
       "      <td>200000.000000</td>\n",
       "      <td>200000.000000</td>\n",
       "      <td>200000.000000</td>\n",
       "      <td>200000.000000</td>\n",
       "      <td>200000.000000</td>\n",
       "      <td>200000.000000</td>\n",
       "      <td>200000.000000</td>\n",
       "      <td>200000.000000</td>\n",
       "    </tr>\n",
       "    <tr>\n",
       "      <th>mean</th>\n",
       "      <td>2015.024640</td>\n",
       "      <td>6.676015</td>\n",
       "      <td>15.812315</td>\n",
       "      <td>-93.010229</td>\n",
       "      <td>41.964581</td>\n",
       "      <td>2.623950</td>\n",
       "      <td>11.273535</td>\n",
       "      <td>1.045097e+06</td>\n",
       "      <td>56.766040</td>\n",
       "      <td>84.209260</td>\n",
       "      <td>45716.656830</td>\n",
       "      <td>943.375015</td>\n",
       "      <td>1.253180</td>\n",
       "      <td>2.691318</td>\n",
       "      <td>7.005908</td>\n",
       "      <td>3636.994595</td>\n",
       "      <td>189.944500</td>\n",
       "      <td>146720.847845</td>\n",
       "    </tr>\n",
       "    <tr>\n",
       "      <th>std</th>\n",
       "      <td>2.015258</td>\n",
       "      <td>3.440053</td>\n",
       "      <td>8.747605</td>\n",
       "      <td>1.645891</td>\n",
       "      <td>0.645199</td>\n",
       "      <td>1.253289</td>\n",
       "      <td>4.511890</td>\n",
       "      <td>5.771532e+04</td>\n",
       "      <td>27.599705</td>\n",
       "      <td>84.710017</td>\n",
       "      <td>49310.269337</td>\n",
       "      <td>455.577137</td>\n",
       "      <td>1.515264</td>\n",
       "      <td>2.723048</td>\n",
       "      <td>6.100439</td>\n",
       "      <td>960.194741</td>\n",
       "      <td>132.977488</td>\n",
       "      <td>159037.859991</td>\n",
       "    </tr>\n",
       "    <tr>\n",
       "      <th>min</th>\n",
       "      <td>2012.000000</td>\n",
       "      <td>1.000000</td>\n",
       "      <td>1.000000</td>\n",
       "      <td>-96.563230</td>\n",
       "      <td>40.400038</td>\n",
       "      <td>1.000000</td>\n",
       "      <td>1.000000</td>\n",
       "      <td>1.011100e+06</td>\n",
       "      <td>1.000000</td>\n",
       "      <td>1.000000</td>\n",
       "      <td>102.000000</td>\n",
       "      <td>20.000000</td>\n",
       "      <td>0.010000</td>\n",
       "      <td>0.010000</td>\n",
       "      <td>0.020000</td>\n",
       "      <td>2106.000000</td>\n",
       "      <td>0.000000</td>\n",
       "      <td>3645.000000</td>\n",
       "    </tr>\n",
       "    <tr>\n",
       "      <th>25%</th>\n",
       "      <td>2013.000000</td>\n",
       "      <td>4.000000</td>\n",
       "      <td>8.000000</td>\n",
       "      <td>-93.808855</td>\n",
       "      <td>41.561712</td>\n",
       "      <td>2.000000</td>\n",
       "      <td>6.000000</td>\n",
       "      <td>1.012300e+06</td>\n",
       "      <td>31.000000</td>\n",
       "      <td>16.000000</td>\n",
       "      <td>27783.000000</td>\n",
       "      <td>750.000000</td>\n",
       "      <td>0.370000</td>\n",
       "      <td>0.610000</td>\n",
       "      <td>2.000000</td>\n",
       "      <td>2614.000000</td>\n",
       "      <td>76.000000</td>\n",
       "      <td>21034.000000</td>\n",
       "    </tr>\n",
       "    <tr>\n",
       "      <th>50%</th>\n",
       "      <td>2015.000000</td>\n",
       "      <td>7.000000</td>\n",
       "      <td>16.000000</td>\n",
       "      <td>-93.106728</td>\n",
       "      <td>41.833351</td>\n",
       "      <td>3.000000</td>\n",
       "      <td>12.000000</td>\n",
       "      <td>1.031200e+06</td>\n",
       "      <td>61.000000</td>\n",
       "      <td>52.000000</td>\n",
       "      <td>38176.000000</td>\n",
       "      <td>750.000000</td>\n",
       "      <td>0.660000</td>\n",
       "      <td>1.390000</td>\n",
       "      <td>6.000000</td>\n",
       "      <td>3744.000000</td>\n",
       "      <td>140.000000</td>\n",
       "      <td>95155.000000</td>\n",
       "    </tr>\n",
       "    <tr>\n",
       "      <th>75%</th>\n",
       "      <td>2017.000000</td>\n",
       "      <td>10.000000</td>\n",
       "      <td>23.000000</td>\n",
       "      <td>-91.630677</td>\n",
       "      <td>42.489119</td>\n",
       "      <td>4.000000</td>\n",
       "      <td>12.000000</td>\n",
       "      <td>1.062310e+06</td>\n",
       "      <td>77.000000</td>\n",
       "      <td>145.000000</td>\n",
       "      <td>58875.000000</td>\n",
       "      <td>1000.000000</td>\n",
       "      <td>1.030000</td>\n",
       "      <td>4.250000</td>\n",
       "      <td>10.500000</td>\n",
       "      <td>4380.000000</td>\n",
       "      <td>304.000000</td>\n",
       "      <td>215462.000000</td>\n",
       "    </tr>\n",
       "    <tr>\n",
       "      <th>max</th>\n",
       "      <td>2018.000000</td>\n",
       "      <td>12.000000</td>\n",
       "      <td>31.000000</td>\n",
       "      <td>-90.182002</td>\n",
       "      <td>43.491139</td>\n",
       "      <td>6.000000</td>\n",
       "      <td>30.000000</td>\n",
       "      <td>1.901200e+06</td>\n",
       "      <td>99.000000</td>\n",
       "      <td>248.000000</td>\n",
       "      <td>995606.000000</td>\n",
       "      <td>6000.000000</td>\n",
       "      <td>6.610000</td>\n",
       "      <td>12.500000</td>\n",
       "      <td>36.000000</td>\n",
       "      <td>9931.000000</td>\n",
       "      <td>445.000000</td>\n",
       "      <td>487204.000000</td>\n",
       "    </tr>\n",
       "  </tbody>\n",
       "</table>\n",
       "</div>"
      ],
      "text/plain": [
       "                year          month            day       latitude  \\\n",
       "count  200000.000000  200000.000000  200000.000000  200000.000000   \n",
       "mean     2015.024640       6.676015      15.812315     -93.010229   \n",
       "std         2.015258       3.440053       8.747605       1.645891   \n",
       "min      2012.000000       1.000000       1.000000     -96.563230   \n",
       "25%      2013.000000       4.000000       8.000000     -93.808855   \n",
       "50%      2015.000000       7.000000      16.000000     -93.106728   \n",
       "75%      2017.000000      10.000000      23.000000     -91.630677   \n",
       "max      2018.000000      12.000000      31.000000     -90.182002   \n",
       "\n",
       "           longitude    week_of_day           pack      category  \\\n",
       "count  200000.000000  200000.000000  200000.000000  2.000000e+05   \n",
       "mean       41.964581       2.623950      11.273535  1.045097e+06   \n",
       "std         0.645199       1.253289       4.511890  5.771532e+04   \n",
       "min        40.400038       1.000000       1.000000  1.011100e+06   \n",
       "25%        41.561712       2.000000       6.000000  1.012300e+06   \n",
       "50%        41.833351       3.000000      12.000000  1.031200e+06   \n",
       "75%        42.489119       4.000000      12.000000  1.062310e+06   \n",
       "max        43.491139       6.000000      30.000000  1.901200e+06   \n",
       "\n",
       "       county_number      store_num    item_number  bottle_volume  \\\n",
       "count  200000.000000  200000.000000  200000.000000  200000.000000   \n",
       "mean       56.766040      84.209260   45716.656830     943.375015   \n",
       "std        27.599705      84.710017   49310.269337     455.577137   \n",
       "min         1.000000       1.000000     102.000000      20.000000   \n",
       "25%        31.000000      16.000000   27783.000000     750.000000   \n",
       "50%        61.000000      52.000000   38176.000000     750.000000   \n",
       "75%        77.000000     145.000000   58875.000000    1000.000000   \n",
       "max        99.000000     248.000000  995606.000000    6000.000000   \n",
       "\n",
       "          cost_price   retail_price    volume_sold   store_number  \\\n",
       "count  200000.000000  200000.000000  200000.000000  200000.000000   \n",
       "mean        1.253180       2.691318       7.005908    3636.994595   \n",
       "std         1.515264       2.723048       6.100439     960.194741   \n",
       "min         0.010000       0.010000       0.020000    2106.000000   \n",
       "25%         0.370000       0.610000       2.000000    2614.000000   \n",
       "50%         0.660000       1.390000       6.000000    3744.000000   \n",
       "75%         1.030000       4.250000      10.500000    4380.000000   \n",
       "max         6.610000      12.500000      36.000000    9931.000000   \n",
       "\n",
       "        encoded_city     population  \n",
       "count  200000.000000  200000.000000  \n",
       "mean      189.944500  146720.847845  \n",
       "std       132.977488  159037.859991  \n",
       "min         0.000000    3645.000000  \n",
       "25%        76.000000   21034.000000  \n",
       "50%       140.000000   95155.000000  \n",
       "75%       304.000000  215462.000000  \n",
       "max       445.000000  487204.000000  "
      ]
     },
     "execution_count": 4,
     "metadata": {},
     "output_type": "execute_result"
    }
   ],
   "source": [
    "data_final.describe()"
   ]
  },
  {
   "cell_type": "code",
   "execution_count": 5,
   "metadata": {},
   "outputs": [
    {
     "data": {
      "text/plain": [
       "Index(['year', 'month', 'day', 'latitude', 'longitude', 'week_of_day', 'pack',\n",
       "       'city', 'category', 'county_number', 'county', 'store_num',\n",
       "       'item_number', 'bottle_volume', 'cost_price', 'retail_price',\n",
       "       'volume_sold', 'store_number', 'encoded_city', 'population'],\n",
       "      dtype='object')"
      ]
     },
     "execution_count": 5,
     "metadata": {},
     "output_type": "execute_result"
    }
   ],
   "source": [
    "# convert data types \n",
    "data_final[\"city\"] = data_final[\"city\"].astype(\"category\")\n",
    "data_final[\"category\"] = data_final[\"category\"].astype(\"category\")\n",
    "data_final[\"county_number\"] = data_final[\"county_number\"].astype(\"category\")\n",
    "data_final[\"item_number\"] = data_final[\"item_number\"].astype(\"category\")\n",
    "data_final[\"store_number\"] = data_final[\"store_number\"].astype(\"category\")\n",
    "data_final[\"encoded_city\"] = data_final[\"encoded_city\"].astype(\"category\")\n",
    "data_final.columns"
   ]
  },
  {
   "cell_type": "code",
   "execution_count": 6,
   "metadata": {},
   "outputs": [],
   "source": [
    "# train-test splitting \n",
    "X = data_final[['week_of_day', 'pack', 'store_num', 'bottle_volume', \n",
    "                'cost_price', 'retail_price', 'population', 'encoded_city',\n",
    "                'category', 'county_number', 'store_number', 'item_number']]\n",
    "\n",
    "y = data_final.volume_sold\n",
    "X_train, X_test, y_train, y_test = train_test_split(X, y, test_size = 0.3, random_state = 100)"
   ]
  },
  {
   "cell_type": "markdown",
   "metadata": {},
   "source": [
    "## Decision Tree"
   ]
  },
  {
   "cell_type": "markdown",
   "metadata": {},
   "source": [
    "### Baseline performance"
   ]
  },
  {
   "cell_type": "code",
   "execution_count": 7,
   "metadata": {},
   "outputs": [
    {
     "name": "stdout",
     "output_type": "stream",
     "text": [
      "RMSE: 5.424713160374789\n"
     ]
    }
   ],
   "source": [
    "dt_model = DecisionTreeRegressor(max_depth=1, random_state= 100)\n",
    "dt_model.fit(X_train, y_train)\n",
    "pred = dt_model.predict(X_test)\n",
    "dt_base_rmse = np.sqrt(mean_squared_error(y_test, pred))\n",
    "print(\"RMSE: \" + str(dt_base_rmse))\n",
    "# tree.plot_tree(reg,feature_names= X_train.columns)"
   ]
  },
  {
   "cell_type": "markdown",
   "metadata": {},
   "source": [
    "### Parameter Tuning"
   ]
  },
  {
   "cell_type": "code",
   "execution_count": 8,
   "metadata": {},
   "outputs": [
    {
     "data": {
      "image/png": "[encoded data removed]",
      "text/plain": [
       "<Figure size 576x576 with 1 Axes>"
      ]
     },
     "metadata": {
      "needs_background": "light"
     },
     "output_type": "display_data"
    }
   ],
   "source": [
    "# Cursory search for max_depth hyperparameter\n",
    "n_estimators_score = []\n",
    "for i in range(1,30):\n",
    "    cv_results = cross_validate(DecisionTreeRegressor(max_depth= i, random_state= 100), \n",
    "                                X_train, y_train, scoring = 'neg_root_mean_squared_error', cv = 3)\n",
    "    n_estimators_score.append(-sum(cv_results['test_score']) / len(cv_results['test_score']))\n",
    "fig, ax = plt.subplots(figsize = (8,8))\n",
    "plt.plot(range(1,30), n_estimators_score)\n",
    "plt.title('Decision Tree RMSE for max_depth')\n",
    "plt.xlabel('Maximum Depth')\n",
    "plt.ylabel('RMSE Score')\n",
    "plt.show()\n",
    "fig.savefig('DT-max_depth_new.pdf')\n",
    "plt.close()"
   ]
  },
  {
   "cell_type": "code",
   "execution_count": 9,
   "metadata": {},
   "outputs": [
    {
     "data": {
      "image/png": "[encoded data removed]",
      "text/plain": [
       "<Figure size 576x576 with 1 Axes>"
      ]
     },
     "metadata": {
      "needs_background": "light"
     },
     "output_type": "display_data"
    }
   ],
   "source": [
    "# Cursory search for max_features hyperparameter\n",
    "n_estimators_score = []\n",
    "for i in np.linspace(0.1, 1, 10):\n",
    "    cv_results = cross_validate(DecisionTreeRegressor(max_features= i, random_state= 100), \n",
    "                                X_train, y_train, scoring = 'neg_root_mean_squared_error', cv = 3)\n",
    "    n_estimators_score.append(-sum(cv_results['test_score']) / len(cv_results['test_score']))\n",
    "fig, ax = plt.subplots(figsize = (8,8))\n",
    "plt.plot(np.linspace(0.01, 1, 10), n_estimators_score)\n",
    "plt.title('Decision Tree RMSE for max_features')\n",
    "plt.xlabel('Maximum features')\n",
    "plt.ylabel('RMSE Score')\n",
    "plt.show()\n",
    "fig.savefig('DT-max_features_new.pdf')\n",
    "plt.close()"
   ]
  },
  {
   "cell_type": "code",
   "execution_count": 10,
   "metadata": {},
   "outputs": [
    {
     "name": "stdout",
     "output_type": "stream",
     "text": [
      "|   iter    |  target   | max_depth | max_fe... |\n",
      "-------------------------------------------------\n",
      "| \u001b[0m 1       \u001b[0m | \u001b[0m-4.97    \u001b[0m | \u001b[0m 10.43   \u001b[0m | \u001b[0m 0.7113  \u001b[0m |\n",
      "| \u001b[0m 2       \u001b[0m | \u001b[0m-4.986   \u001b[0m | \u001b[0m 9.245   \u001b[0m | \u001b[0m 0.9379  \u001b[0m |\n",
      "| \u001b[0m 3       \u001b[0m | \u001b[0m-5.174   \u001b[0m | \u001b[0m 6.716   \u001b[0m | \u001b[0m 0.6092  \u001b[0m |\n",
      "| \u001b[0m 4       \u001b[0m | \u001b[0m-5.083   \u001b[0m | \u001b[0m 13.27   \u001b[0m | \u001b[0m 1.0     \u001b[0m |\n",
      "| \u001b[0m 5       \u001b[0m | \u001b[0m-5.238   \u001b[0m | \u001b[0m 15.0    \u001b[0m | \u001b[0m 0.6     \u001b[0m |\n",
      "| \u001b[0m 6       \u001b[0m | \u001b[0m-4.981   \u001b[0m | \u001b[0m 11.63   \u001b[0m | \u001b[0m 1.0     \u001b[0m |\n",
      "| \u001b[0m 7       \u001b[0m | \u001b[0m-4.971   \u001b[0m | \u001b[0m 10.27   \u001b[0m | \u001b[0m 1.0     \u001b[0m |\n",
      "| \u001b[0m 8       \u001b[0m | \u001b[0m-5.0     \u001b[0m | \u001b[0m 11.31   \u001b[0m | \u001b[0m 0.6     \u001b[0m |\n",
      "| \u001b[0m 9       \u001b[0m | \u001b[0m-5.022   \u001b[0m | \u001b[0m 9.739   \u001b[0m | \u001b[0m 0.6     \u001b[0m |\n",
      "| \u001b[0m 10      \u001b[0m | \u001b[0m-5.171   \u001b[0m | \u001b[0m 5.0     \u001b[0m | \u001b[0m 1.0     \u001b[0m |\n",
      "| \u001b[0m 11      \u001b[0m | \u001b[0m-5.011   \u001b[0m | \u001b[0m 8.296   \u001b[0m | \u001b[0m 1.0     \u001b[0m |\n",
      "| \u001b[0m 12      \u001b[0m | \u001b[0m-4.971   \u001b[0m | \u001b[0m 10.91   \u001b[0m | \u001b[0m 1.0     \u001b[0m |\n",
      "=================================================\n"
     ]
    },
    {
     "data": {
      "text/plain": [
       "{'target': -4.969565758498863,\n",
       " 'params': {'max_depth': 10.434049417909655,\n",
       "  'max_features': 0.7113477540375185}}"
      ]
     },
     "execution_count": 10,
     "metadata": {},
     "output_type": "execute_result"
    }
   ],
   "source": [
    "# Decision Tree regressor tuning \n",
    "def dt_func(max_depth,max_features):\n",
    "    cv_results = cross_validate(DecisionTreeRegressor(max_depth = int(max_depth), \n",
    "                                                           max_features = max_features\n",
    "                                                           ,random_state= 100),\n",
    "                                X_train, y_train, scoring = 'neg_root_mean_squared_error', cv = 3)\n",
    "    return sum(cv_results['test_score']) / len(cv_results['test_score'])\n",
    "\n",
    "\n",
    "# Find the global maximum of the target function \n",
    "dt_params = BayesianOptimization(dt_func, {'max_depth': (5,15), 'max_features': (0.6, 1)}, random_state = 100)\n",
    "dt_params.maximize(n_iter = 10, init_points = 2)\n",
    "final_para_dt = dt_params.max\n",
    "dt_params.max"
   ]
  },
  {
   "cell_type": "code",
   "execution_count": 11,
   "metadata": {},
   "outputs": [
    {
     "name": "stdout",
     "output_type": "stream",
     "text": [
      "max-depth: 10\n",
      "max-features: 0.7113477540375185\n",
      "RMSE: 4.855998651241666\n"
     ]
    }
   ],
   "source": [
    "depth = int(final_para_dt['params']['max_depth'])\n",
    "features = final_para_dt['params']['max_features']\n",
    "\n",
    "dt_model = DecisionTreeRegressor(max_depth= depth,max_features = features,random_state= 100)\n",
    "dt_model.fit(X_train, y_train)\n",
    "\n",
    "pred = dt_model.predict(X_test)\n",
    "print(\"max-depth: \" + str(depth))\n",
    "print(\"max-features: \"+str(features))\n",
    "dt_rmse = np.sqrt(mean_squared_error(y_test, pred))\n",
    "print(\"RMSE: \" + str(dt_rmse))"
   ]
  },
  {
   "cell_type": "code",
   "execution_count": 12,
   "metadata": {},
   "outputs": [
    {
     "data": {
      "text/plain": [
       "[('bottle_volume', 0.523958246935016),\n",
       " ('item_number', 0.12359883700100162),\n",
       " ('store_number', 0.07710985037227014),\n",
       " ('retail_price', 0.05854396160937547),\n",
       " ('store_num', 0.048768605233200604),\n",
       " ('cost_price', 0.04089461099920347),\n",
       " ('pack', 0.038979983292913675),\n",
       " ('population', 0.0304930935988949),\n",
       " ('category', 0.022184546508145126),\n",
       " ('encoded_city', 0.020191943507145572),\n",
       " ('county_number', 0.012107152354936649),\n",
       " ('week_of_day', 0.003169168587896802)]"
      ]
     },
     "execution_count": 12,
     "metadata": {},
     "output_type": "execute_result"
    }
   ],
   "source": [
    "features = list(X.columns)\n",
    "importance = list(dt_model.feature_importances_)\n",
    "importance_dict = {}\n",
    "for i in range(len(features)):\n",
    "    importance_dict[features[i]] = importance[i]\n",
    "sorted(importance_dict.items(), key = lambda item: abs(item[1]), reverse = True)"
   ]
  },
  {
   "cell_type": "markdown",
   "metadata": {},
   "source": [
    "## Random Forest"
   ]
  },
  {
   "cell_type": "markdown",
   "metadata": {},
   "source": [
    "### Baseline performance"
   ]
  },
  {
   "cell_type": "code",
   "execution_count": 13,
   "metadata": {},
   "outputs": [
    {
     "name": "stdout",
     "output_type": "stream",
     "text": [
      "RMSE: 5.425776888698941\n"
     ]
    }
   ],
   "source": [
    "rf_model = RandomForestRegressor(n_estimators = 1, max_depth=1, random_state=100)\n",
    "rf_model.fit(X_train, y_train)\n",
    "rf_model_pred = rf_model.predict(X_test)\n",
    "rf_base_rmse = np.sqrt(mean_squared_error(y_test, rf_model_pred))\n",
    "print(\"RMSE: \" + str(rf_base_rmse))"
   ]
  },
  {
   "cell_type": "markdown",
   "metadata": {},
   "source": [
    "### Parameter Tuning"
   ]
  },
  {
   "cell_type": "code",
   "execution_count": 14,
   "metadata": {},
   "outputs": [
    {
     "data": {
      "image/png": "[encoded data removed]",
      "text/plain": [
       "<Figure size 576x576 with 1 Axes>"
      ]
     },
     "metadata": {
      "needs_background": "light"
     },
     "output_type": "display_data"
    }
   ],
   "source": [
    "# Cursory search for n_estimators hyperparameter\n",
    "n_estimators_score = []\n",
    "for i in range(20,50):\n",
    "    cv_results = cross_validate(RandomForestRegressor(n_estimators= i,random_state= 100), \n",
    "                                X_train, y_train, scoring = 'neg_root_mean_squared_error', cv = 3)\n",
    "    n_estimators_score.append(-sum(cv_results['test_score']) / len(cv_results['test_score']))\n",
    "fig, ax = plt.subplots(figsize = (8,8))\n",
    "plt.plot(range(20,50), n_estimators_score)\n",
    "plt.title('Random Forest RMSE for n_estimators')\n",
    "plt.xlabel('N_estimators')\n",
    "plt.ylabel('RMSE Score')\n",
    "plt.show()\n",
    "fig.savefig('RF-n_estimators_new.pdf')\n",
    "plt.close()"
   ]
  },
  {
   "cell_type": "code",
   "execution_count": 15,
   "metadata": {},
   "outputs": [
    {
     "data": {
      "image/png": "[encoded data removed]",
      "text/plain": [
       "<Figure size 576x576 with 1 Axes>"
      ]
     },
     "metadata": {
      "needs_background": "light"
     },
     "output_type": "display_data"
    }
   ],
   "source": [
    "# Cursory search for max_depth hyperparameter\n",
    "n_estimators_score = []\n",
    "for i in range(1,30):\n",
    "    cv_results = cross_validate(RandomForestRegressor(max_depth= i,random_state= 100), \n",
    "                                X_train, y_train, scoring = 'neg_root_mean_squared_error', cv = 3)\n",
    "    n_estimators_score.append(-sum(cv_results['test_score']) / len(cv_results['test_score']))\n",
    "fig, ax = plt.subplots(figsize = (8,8))\n",
    "plt.plot(range(1,30), n_estimators_score)\n",
    "plt.title('Random Forest RMSE for max_depth')\n",
    "plt.xlabel('Maximum Depth')\n",
    "plt.ylabel('RMSE Score')\n",
    "plt.show()\n",
    "fig.savefig('RF-max_depth_new.pdf')\n",
    "plt.close()"
   ]
  },
  {
   "cell_type": "code",
   "execution_count": 16,
   "metadata": {},
   "outputs": [
    {
     "data": {
      "image/png": "[encoded data removed]",
      "text/plain": [
       "<Figure size 576x576 with 1 Axes>"
      ]
     },
     "metadata": {
      "needs_background": "light"
     },
     "output_type": "display_data"
    }
   ],
   "source": [
    "# Cursory search for max_features hyperparameter\n",
    "n_estimators_score = []\n",
    "for i in np.linspace(0.1, 1, 10):\n",
    "    cv_results = cross_validate(RandomForestRegressor(max_features= i,random_state= 100), \n",
    "                                X_train, y_train, scoring = 'neg_root_mean_squared_error', cv = 3)\n",
    "    n_estimators_score.append(-sum(cv_results['test_score']) / len(cv_results['test_score']))\n",
    "fig, ax = plt.subplots(figsize = (8,8))\n",
    "plt.plot(np.linspace(0.01, 1, 10), n_estimators_score)\n",
    "plt.title('Random Forest RMSE for max_features')\n",
    "plt.xlabel('Maximum features')\n",
    "plt.ylabel('RMSE Score')\n",
    "plt.show()\n",
    "fig.savefig('RF-max_features_new.pdf')\n",
    "plt.close()"
   ]
  },
  {
   "cell_type": "code",
   "execution_count": 17,
   "metadata": {},
   "outputs": [
    {
     "name": "stdout",
     "output_type": "stream",
     "text": [
      "|   iter    |  target   | max_depth | max_fe... | n_esti... |\n",
      "-------------------------------------------------------------\n",
      "| \u001b[0m 1       \u001b[0m | \u001b[0m-4.437   \u001b[0m | \u001b[0m 20.43   \u001b[0m | \u001b[0m 0.567   \u001b[0m | \u001b[0m 48.85   \u001b[0m |\n",
      "| \u001b[0m 2       \u001b[0m | \u001b[0m-4.46    \u001b[0m | \u001b[0m 23.45   \u001b[0m | \u001b[0m 0.4028  \u001b[0m | \u001b[0m 48.24   \u001b[0m |\n",
      "| \u001b[0m 3       \u001b[0m | \u001b[0m-4.438   \u001b[0m | \u001b[0m 20.47   \u001b[0m | \u001b[0m 0.6322  \u001b[0m | \u001b[0m 48.89   \u001b[0m |\n",
      "| \u001b[0m 4       \u001b[0m | \u001b[0m-4.47    \u001b[0m | \u001b[0m 19.02   \u001b[0m | \u001b[0m 0.4     \u001b[0m | \u001b[0m 48.05   \u001b[0m |\n",
      "| \u001b[0m 5       \u001b[0m | \u001b[0m-4.462   \u001b[0m | \u001b[0m 21.04   \u001b[0m | \u001b[0m 0.4     \u001b[0m | \u001b[0m 48.17   \u001b[0m |\n",
      "| \u001b[0m 6       \u001b[0m | \u001b[0m-4.465   \u001b[0m | \u001b[0m 20.11   \u001b[0m | \u001b[0m 0.4     \u001b[0m | \u001b[0m 49.34   \u001b[0m |\n",
      "| \u001b[0m 7       \u001b[0m | \u001b[0m-4.441   \u001b[0m | \u001b[0m 20.32   \u001b[0m | \u001b[0m 0.7694  \u001b[0m | \u001b[0m 48.58   \u001b[0m |\n",
      "| \u001b[0m 8       \u001b[0m | \u001b[0m-4.453   \u001b[0m | \u001b[0m 23.92   \u001b[0m | \u001b[0m 0.4438  \u001b[0m | \u001b[0m 49.84   \u001b[0m |\n",
      "| \u001b[0m 9       \u001b[0m | \u001b[0m-4.466   \u001b[0m | \u001b[0m 20.77   \u001b[0m | \u001b[0m 0.4     \u001b[0m | \u001b[0m 48.84   \u001b[0m |\n",
      "| \u001b[0m 10      \u001b[0m | \u001b[0m-4.437   \u001b[0m | \u001b[0m 20.23   \u001b[0m | \u001b[0m 0.713   \u001b[0m | \u001b[0m 48.86   \u001b[0m |\n",
      "| \u001b[0m 11      \u001b[0m | \u001b[0m-4.446   \u001b[0m | \u001b[0m 20.1    \u001b[0m | \u001b[0m 0.4301  \u001b[0m | \u001b[0m 48.62   \u001b[0m |\n",
      "| \u001b[0m 12      \u001b[0m | \u001b[0m-4.456   \u001b[0m | \u001b[0m 20.38   \u001b[0m | \u001b[0m 0.9767  \u001b[0m | \u001b[0m 48.99   \u001b[0m |\n",
      "=============================================================\n"
     ]
    },
    {
     "data": {
      "text/plain": [
       "{'target': -4.436594062578714,\n",
       " 'params': {'max_depth': 20.434049417909655,\n",
       "  'max_features': 0.5670216310562777,\n",
       "  'n_estimators': 48.849035181498266}}"
      ]
     },
     "execution_count": 17,
     "metadata": {},
     "output_type": "execute_result"
    }
   ],
   "source": [
    "# Random Forest regressor tuning \n",
    "def rf_func(n_estimators,max_depth,max_features):\n",
    "    cv_results = cross_validate(RandomForestRegressor(n_estimators= int(n_estimators),\n",
    "                                                      max_depth = int(max_depth), \n",
    "                                                      max_features = max_features\n",
    "                                                      ,random_state= 100),\n",
    "                                X_train, y_train, scoring = 'neg_root_mean_squared_error', cv = 3)\n",
    "    return sum(cv_results['test_score']) / len(cv_results['test_score'])\n",
    "\n",
    "\n",
    "# Find the global maximum of the target function \n",
    "rf_params = BayesianOptimization(rf_func, {'n_estimators': (48,50), 'max_depth': (15,25), 'max_features': (0.4, 1)}, random_state = 100)\n",
    "rf_params.maximize(n_iter = 10, init_points = 2)\n",
    "final_para_rf = rf_params.max\n",
    "rf_params.max"
   ]
  },
  {
   "cell_type": "code",
   "execution_count": 18,
   "metadata": {},
   "outputs": [
    {
     "name": "stdout",
     "output_type": "stream",
     "text": [
      "max-depth: 20\n",
      "max-features: 0.5670216310562777\n",
      "RMSE: 4.29764790896443\n"
     ]
    }
   ],
   "source": [
    "estimators = int(final_para_rf['params']['n_estimators'])\n",
    "depth = int(final_para_rf['params']['max_depth'])\n",
    "features = final_para_rf['params']['max_features']\n",
    "\n",
    "rf_model = RandomForestRegressor(n_estimators = estimators,max_depth = depth,max_features = features,random_state= 100)\n",
    "rf_model.fit(X_train, y_train)\n",
    "\n",
    "pred = rf_model.predict(X_test)\n",
    "print(\"max-depth: \" + str(depth))\n",
    "print(\"max-features: \"+str(features))\n",
    "rf_rmse = np.sqrt(mean_squared_error(y_test, pred))\n",
    "print(\"RMSE: \" + str(rf_rmse))"
   ]
  },
  {
   "cell_type": "code",
   "execution_count": 19,
   "metadata": {},
   "outputs": [
    {
     "data": {
      "text/plain": [
       "[('bottle_volume', 0.2153829918424893),\n",
       " ('store_number', 0.1414187320430137),\n",
       " ('population', 0.10586413169237371),\n",
       " ('item_number', 0.09844574432277284),\n",
       " ('retail_price', 0.07655902570461907),\n",
       " ('cost_price', 0.07070051938238797),\n",
       " ('encoded_city', 0.06548243423094657),\n",
       " ('category', 0.05683482220389329),\n",
       " ('pack', 0.05110927769154205),\n",
       " ('store_num', 0.04297985783515991),\n",
       " ('county_number', 0.03970884352014329),\n",
       " ('week_of_day', 0.03551361953065839)]"
      ]
     },
     "execution_count": 19,
     "metadata": {},
     "output_type": "execute_result"
    }
   ],
   "source": [
    "features = list(X.columns)\n",
    "importance = list(rf_model.feature_importances_)\n",
    "importance_dict = {}\n",
    "for i in range(len(features)):\n",
    "    importance_dict[features[i]] = importance[i]\n",
    "sorted(importance_dict.items(), key = lambda item: abs(item[1]), reverse = True)"
   ]
  },
  {
   "cell_type": "markdown",
   "metadata": {},
   "source": [
    "## Light GBM"
   ]
  },
  {
   "cell_type": "markdown",
   "metadata": {},
   "source": [
    "### Baseline performance"
   ]
  },
  {
   "cell_type": "code",
   "execution_count": 20,
   "metadata": {},
   "outputs": [
    {
     "name": "stdout",
     "output_type": "stream",
     "text": [
      "RMSE: 4.776349545352471\n"
     ]
    }
   ],
   "source": [
    "lgbm_model = LGBMRegressor(max_depth= 1,num_leaves = 2,random_state= 100)\n",
    "lgbm_model.fit(X_train, y_train)\n",
    "\n",
    "pred = lgbm_model.predict(X_test)\n",
    "lgbm_base_rmse = np.sqrt(mean_squared_error(y_test, pred))\n",
    "print(\"RMSE: \" + str(lgbm_base_rmse))"
   ]
  },
  {
   "cell_type": "markdown",
   "metadata": {},
   "source": [
    "### Parameter Tuning"
   ]
  },
  {
   "cell_type": "code",
   "execution_count": 21,
   "metadata": {},
   "outputs": [
    {
     "data": {
      "image/png": "[encoded data removed]",
      "text/plain": [
       "<Figure size 576x576 with 1 Axes>"
      ]
     },
     "metadata": {
      "needs_background": "light"
     },
     "output_type": "display_data"
    }
   ],
   "source": [
    "# Cursory search for num_leaves hyperparameter\n",
    "num_leaves_score = []\n",
    "for i in range(70,100):\n",
    "    cv_results = cross_validate(LGBMRegressor(num_leaves= i, random_state = 100), \n",
    "                                X_train, y_train, scoring = 'neg_root_mean_squared_error', cv = 3)\n",
    "    num_leaves_score.append(-sum(cv_results['test_score']) / len(cv_results['test_score']))\n",
    "fig, ax = plt.subplots(figsize = (8,8))\n",
    "plt.plot(range(70,100), num_leaves_score)\n",
    "plt.title('LightGBM RMSE for num_leaves')\n",
    "plt.xlabel('number of leaves')\n",
    "plt.ylabel('RMSE score')\n",
    "plt.show()\n",
    "fig.savefig('LGBM-num_leaves_new.pdf')\n",
    "plt.close()"
   ]
  },
  {
   "cell_type": "code",
   "execution_count": 22,
   "metadata": {},
   "outputs": [
    {
     "data": {
      "image/png": "[encoded data removed]",
      "text/plain": [
       "<Figure size 576x576 with 1 Axes>"
      ]
     },
     "metadata": {
      "needs_background": "light"
     },
     "output_type": "display_data"
    }
   ],
   "source": [
    "# Cursory search for max_depth hyperparameter\n",
    "max_depth_score = []\n",
    "for i in range(5, 30):\n",
    "    cv_results = cross_validate(LGBMRegressor(max_depth= i, num_leaves = int(pow(2, i)/2), random_state = 100), \n",
    "                                X_train, y_train, scoring = 'neg_root_mean_squared_error', cv = 3)\n",
    "    max_depth_score.append(-sum(cv_results['test_score']) / len(cv_results['test_score']))\n",
    "fig, ax = plt.subplots(figsize = (8,8))\n",
    "plt.plot(range(5,30), max_depth_score)\n",
    "plt.title('LightGBM RMSE for max_depth')\n",
    "plt.xlabel('max depth')\n",
    "plt.ylabel('RMSE score')\n",
    "plt.show()\n",
    "fig.savefig('LGBM-max_depth_new.pdf')\n",
    "plt.close()"
   ]
  },
  {
   "cell_type": "code",
   "execution_count": 23,
   "metadata": {},
   "outputs": [
    {
     "name": "stdout",
     "output_type": "stream",
     "text": [
      "|   iter    |  target   | max_depth | num_le... |\n",
      "-------------------------------------------------\n",
      "| \u001b[0m 1       \u001b[0m | \u001b[0m-4.168   \u001b[0m | \u001b[0m 15.17   \u001b[0m | \u001b[0m 92.78   \u001b[0m |\n",
      "| \u001b[95m 2       \u001b[0m | \u001b[95m-4.167   \u001b[0m | \u001b[95m 14.7    \u001b[0m | \u001b[95m 98.45   \u001b[0m |\n",
      "| \u001b[0m 3       \u001b[0m | \u001b[0m-4.167   \u001b[0m | \u001b[0m 14.68   \u001b[0m | \u001b[0m 98.47   \u001b[0m |\n",
      "| \u001b[95m 4       \u001b[0m | \u001b[95m-4.16    \u001b[0m | \u001b[95m 17.0    \u001b[0m | \u001b[95m 100.0   \u001b[0m |\n",
      "| \u001b[0m 5       \u001b[0m | \u001b[0m-4.162   \u001b[0m | \u001b[0m 17.0    \u001b[0m | \u001b[0m 98.73   \u001b[0m |\n",
      "| \u001b[0m 6       \u001b[0m | \u001b[0m-4.17    \u001b[0m | \u001b[0m 13.0    \u001b[0m | \u001b[0m 90.0    \u001b[0m |\n",
      "| \u001b[0m 7       \u001b[0m | \u001b[0m-4.166   \u001b[0m | \u001b[0m 16.23   \u001b[0m | \u001b[0m 100.0   \u001b[0m |\n",
      "| \u001b[0m 8       \u001b[0m | \u001b[0m-4.164   \u001b[0m | \u001b[0m 17.0    \u001b[0m | \u001b[0m 99.46   \u001b[0m |\n",
      "| \u001b[95m 9       \u001b[0m | \u001b[95m-4.16    \u001b[0m | \u001b[95m 16.98   \u001b[0m | \u001b[95m 99.97   \u001b[0m |\n",
      "| \u001b[0m 10      \u001b[0m | \u001b[0m-4.162   \u001b[0m | \u001b[0m 17.0    \u001b[0m | \u001b[0m 98.04   \u001b[0m |\n",
      "| \u001b[0m 11      \u001b[0m | \u001b[0m-4.164   \u001b[0m | \u001b[0m 15.34   \u001b[0m | \u001b[0m 99.44   \u001b[0m |\n",
      "| \u001b[0m 12      \u001b[0m | \u001b[0m-4.161   \u001b[0m | \u001b[0m 16.32   \u001b[0m | \u001b[0m 98.37   \u001b[0m |\n",
      "=================================================\n"
     ]
    },
    {
     "data": {
      "text/plain": [
       "{'target': -4.160410846317948,\n",
       " 'params': {'max_depth': 16.98324209658358, 'num_leaves': 99.97405438037804}}"
      ]
     },
     "execution_count": 23,
     "metadata": {},
     "output_type": "execute_result"
    }
   ],
   "source": [
    "# LGBM regressor tuning \n",
    "def lgbm_func(max_depth,num_leaves):\n",
    "    cv_results = cross_validate(LGBMRegressor(max_depth = int(max_depth), \n",
    "                                              num_leaves = int(num_leaves),\n",
    "                                              random_state= 100),\n",
    "                                X_train, y_train, scoring = 'neg_root_mean_squared_error', cv = 3)\n",
    "    return sum(cv_results['test_score']) / len(cv_results['test_score'])\n",
    "\n",
    "\n",
    "# Find the global maximum of the target function \n",
    "lgbm_params = BayesianOptimization(lgbm_func, {'max_depth': (13,17), 'num_leaves': (90, 100)}, random_state = 100)\n",
    "lgbm_params.maximize(n_iter = 10, init_points = 2)\n",
    "final_para_lgbm = lgbm_params.max\n",
    "lgbm_params.max"
   ]
  },
  {
   "cell_type": "code",
   "execution_count": 24,
   "metadata": {},
   "outputs": [
    {
     "name": "stdout",
     "output_type": "stream",
     "text": [
      "max-depth: 16\n",
      "num_leaves: 99\n",
      "RMSE: 4.071771630523179\n"
     ]
    }
   ],
   "source": [
    "depth = int(final_para_lgbm['params']['max_depth'])\n",
    "leaves = int(final_para_lgbm['params']['num_leaves'])\n",
    "\n",
    "lgbm_model = LGBMRegressor(max_depth= depth,num_leaves = leaves,random_state= 100)\n",
    "lgbm_model.fit(X_train, y_train)\n",
    "\n",
    "pred = lgbm_model.predict(X_test)\n",
    "print(\"max-depth: \" + str(depth))\n",
    "print(\"num_leaves: \"+str(leaves))\n",
    "lgbm_rmse = np.sqrt(mean_squared_error(y_test, pred))\n",
    "print(\"RMSE: \" + str(lgbm_rmse))"
   ]
  },
  {
   "cell_type": "code",
   "execution_count": 25,
   "metadata": {},
   "outputs": [
    {
     "data": {
      "text/plain": [
       "[('store_number', 2543),\n",
       " ('item_number', 2076),\n",
       " ('category', 989),\n",
       " ('encoded_city', 745),\n",
       " ('retail_price', 734),\n",
       " ('population', 674),\n",
       " ('cost_price', 621),\n",
       " ('county_number', 436),\n",
       " ('bottle_volume', 362),\n",
       " ('week_of_day', 271),\n",
       " ('pack', 186),\n",
       " ('store_num', 163)]"
      ]
     },
     "execution_count": 25,
     "metadata": {},
     "output_type": "execute_result"
    }
   ],
   "source": [
    "features = list(X.columns)\n",
    "importance = list(lgbm_model.feature_importances_)\n",
    "importance_dict = {}\n",
    "for i in range(len(features)):\n",
    "    importance_dict[features[i]] = importance[i]\n",
    "sorted(importance_dict.items(), key = lambda item: abs(item[1]), reverse = True)"
   ]
  },
  {
   "cell_type": "markdown",
   "metadata": {},
   "source": [
    "## Result of RMSE"
   ]
  },
  {
   "cell_type": "code",
   "execution_count": 26,
   "metadata": {},
   "outputs": [
    {
     "data": {
      "image/png": "[encoded data removed]",
      "text/plain": [
       "<Figure size 432x288 with 1 Axes>"
      ]
     },
     "metadata": {
      "needs_background": "light"
     },
     "output_type": "display_data"
    }
   ],
   "source": [
    "baseline = [dt_base_rmse, rf_base_rmse, lgbm_base_rmse]\n",
    "tuning = [dt_rmse, rf_rmse, lgbm_rmse]\n",
    "model = [\"Ddecision Tree\", \"Random Forest\", \"Light GBM\"]\n",
    "fig, ax = plt.subplots()\n",
    "plt.title(\"Baseline and Optimal Performance of DT, RF and LGBM\")\n",
    "plt.ylabel(\"RMSE\")\n",
    "plt.plot(model, baseline, label = 'Baseline')\n",
    "plt.plot(model, tuning, label = 'Tuning')\n",
    "plt.legend(loc = 'upper right')\n",
    "plt.show()\n",
    "fig.savefig('RMSE for three models.pdf')"
   ]
  }
 ],
 "metadata": {
  "kernelspec": {
   "display_name": "Python 3",
   "language": "python",
   "name": "python3"
  },
  "language_info": {
   "codemirror_mode": {
    "name": "ipython",
    "version": 3
   },
   "file_extension": ".py",
   "mimetype": "text/x-python",
   "name": "python",
   "nbconvert_exporter": "python",
   "pygments_lexer": "ipython3",
   "version": "3.6.9"
  }
 },
 "nbformat": 4,
 "nbformat_minor": 4
}
