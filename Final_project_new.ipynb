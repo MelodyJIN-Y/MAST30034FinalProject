{
 "cells": [
  {
   "cell_type": "code",
   "execution_count": 1,
   "metadata": {},
   "outputs": [
    {
     "name": "stderr",
     "output_type": "stream",
     "text": [
      "/home/student.unimelb.edu.au/xinyij4/.local/lib/python3.6/site-packages/geopandas/_compat.py:88: UserWarning: The Shapely GEOS version (3.8.0-CAPI-1.13.1 ) is incompatible with the GEOS version PyGEOS was compiled with (3.8.1-CAPI-1.13.3). Conversions between both will be slow.\n",
      "  shapely_geos_version, geos_capi_version_string\n"
     ]
    }
   ],
   "source": [
    "import pandas as pd\n",
    "import numpy as np\n",
    "import geopandas as gpd\n",
    "import seaborn as sns \n",
    "import geopandas as gpd\n",
    "import folium\n",
    "import warnings\n",
    "warnings.filterwarnings(\"ignore\")\n",
    "import re\n",
    "import matplotlib.pyplot as plt"
   ]
  },
  {
   "cell_type": "code",
   "execution_count": 2,
   "metadata": {
    "scrolled": false
   },
   "outputs": [
    {
     "data": {
      "text/html": [
       "<div>\n",
       "<style scoped>\n",
       "    .dataframe tbody tr th:only-of-type {\n",
       "        vertical-align: middle;\n",
       "    }\n",
       "\n",
       "    .dataframe tbody tr th {\n",
       "        vertical-align: top;\n",
       "    }\n",
       "\n",
       "    .dataframe thead th {\n",
       "        text-align: right;\n",
       "    }\n",
       "</style>\n",
       "<table border=\"1\" class=\"dataframe\">\n",
       "  <thead>\n",
       "    <tr style=\"text-align: right;\">\n",
       "      <th></th>\n",
       "      <th>Invoice/Item Number</th>\n",
       "      <th>Date</th>\n",
       "      <th>Store Number</th>\n",
       "      <th>Store Name</th>\n",
       "      <th>Address</th>\n",
       "      <th>City</th>\n",
       "      <th>Zip Code</th>\n",
       "      <th>Store Location</th>\n",
       "      <th>County Number</th>\n",
       "      <th>County</th>\n",
       "      <th>...</th>\n",
       "      <th>Item Number</th>\n",
       "      <th>Item Description</th>\n",
       "      <th>Pack</th>\n",
       "      <th>Bottle Volume (ml)</th>\n",
       "      <th>State Bottle Cost</th>\n",
       "      <th>State Bottle Retail</th>\n",
       "      <th>Bottles Sold</th>\n",
       "      <th>Sale (Dollars)</th>\n",
       "      <th>Volume Sold (Liters)</th>\n",
       "      <th>Volume Sold (Gallons)</th>\n",
       "    </tr>\n",
       "  </thead>\n",
       "  <tbody>\n",
       "    <tr>\n",
       "      <th>0</th>\n",
       "      <td>S29198800001</td>\n",
       "      <td>11/20/2015</td>\n",
       "      <td>2191</td>\n",
       "      <td>Keokuk Spirits</td>\n",
       "      <td>1013 MAIN</td>\n",
       "      <td>KEOKUK</td>\n",
       "      <td>52632</td>\n",
       "      <td>1013 MAIN\\nKEOKUK 52632\\n(40.39978, -91.387531)</td>\n",
       "      <td>56.0</td>\n",
       "      <td>Lee</td>\n",
       "      <td>...</td>\n",
       "      <td>297</td>\n",
       "      <td>Templeton Rye w/Flask</td>\n",
       "      <td>6</td>\n",
       "      <td>750</td>\n",
       "      <td>$18.09</td>\n",
       "      <td>$27.14</td>\n",
       "      <td>6</td>\n",
       "      <td>$162.84</td>\n",
       "      <td>4.50</td>\n",
       "      <td>1.19</td>\n",
       "    </tr>\n",
       "    <tr>\n",
       "      <th>1</th>\n",
       "      <td>S29195400002</td>\n",
       "      <td>11/21/2015</td>\n",
       "      <td>2205</td>\n",
       "      <td>Ding's Honk And Holler</td>\n",
       "      <td>900 E WASHINGTON</td>\n",
       "      <td>CLARINDA</td>\n",
       "      <td>51632</td>\n",
       "      <td>900 E WASHINGTON\\nCLARINDA 51632\\n(40.739238, ...</td>\n",
       "      <td>73.0</td>\n",
       "      <td>Page</td>\n",
       "      <td>...</td>\n",
       "      <td>297</td>\n",
       "      <td>Templeton Rye w/Flask</td>\n",
       "      <td>6</td>\n",
       "      <td>750</td>\n",
       "      <td>$18.09</td>\n",
       "      <td>$27.14</td>\n",
       "      <td>12</td>\n",
       "      <td>$325.68</td>\n",
       "      <td>9.00</td>\n",
       "      <td>2.38</td>\n",
       "    </tr>\n",
       "    <tr>\n",
       "      <th>2</th>\n",
       "      <td>S29050300001</td>\n",
       "      <td>11/16/2015</td>\n",
       "      <td>3549</td>\n",
       "      <td>Quicker Liquor Store</td>\n",
       "      <td>1414 48TH ST</td>\n",
       "      <td>FORT MADISON</td>\n",
       "      <td>52627</td>\n",
       "      <td>1414 48TH ST\\nFORT MADISON 52627\\n(40.624226, ...</td>\n",
       "      <td>56.0</td>\n",
       "      <td>Lee</td>\n",
       "      <td>...</td>\n",
       "      <td>249</td>\n",
       "      <td>Disaronno Amaretto Cavalli Mignon 3-50ml Pack</td>\n",
       "      <td>20</td>\n",
       "      <td>150</td>\n",
       "      <td>$6.40</td>\n",
       "      <td>$9.60</td>\n",
       "      <td>2</td>\n",
       "      <td>$19.20</td>\n",
       "      <td>0.30</td>\n",
       "      <td>0.08</td>\n",
       "    </tr>\n",
       "    <tr>\n",
       "      <th>3</th>\n",
       "      <td>S28867700001</td>\n",
       "      <td>11/04/2015</td>\n",
       "      <td>2513</td>\n",
       "      <td>Hy-Vee Food Store #2 / Iowa City</td>\n",
       "      <td>812  S 1ST AVE</td>\n",
       "      <td>IOWA CITY</td>\n",
       "      <td>52240</td>\n",
       "      <td>812 S 1ST AVE\\nIOWA CITY 52240\\n</td>\n",
       "      <td>52.0</td>\n",
       "      <td>Johnson</td>\n",
       "      <td>...</td>\n",
       "      <td>237</td>\n",
       "      <td>Knob Creek w/ Crystal Decanter</td>\n",
       "      <td>3</td>\n",
       "      <td>1750</td>\n",
       "      <td>$35.55</td>\n",
       "      <td>$53.34</td>\n",
       "      <td>3</td>\n",
       "      <td>$160.02</td>\n",
       "      <td>5.25</td>\n",
       "      <td>1.39</td>\n",
       "    </tr>\n",
       "    <tr>\n",
       "      <th>4</th>\n",
       "      <td>S29050800001</td>\n",
       "      <td>11/17/2015</td>\n",
       "      <td>3942</td>\n",
       "      <td>Twin Town Liquor</td>\n",
       "      <td>104 HIGHWAY 30 WEST</td>\n",
       "      <td>TOLEDO</td>\n",
       "      <td>52342</td>\n",
       "      <td>104 HIGHWAY 30 WEST\\nTOLEDO 52342\\n(41.985887,...</td>\n",
       "      <td>86.0</td>\n",
       "      <td>Tama</td>\n",
       "      <td>...</td>\n",
       "      <td>249</td>\n",
       "      <td>Disaronno Amaretto Cavalli Mignon 3-50ml Pack</td>\n",
       "      <td>20</td>\n",
       "      <td>150</td>\n",
       "      <td>$6.40</td>\n",
       "      <td>$9.60</td>\n",
       "      <td>2</td>\n",
       "      <td>$19.20</td>\n",
       "      <td>0.30</td>\n",
       "      <td>0.08</td>\n",
       "    </tr>\n",
       "  </tbody>\n",
       "</table>\n",
       "<p>5 rows × 24 columns</p>\n",
       "</div>"
      ],
      "text/plain": [
       "  Invoice/Item Number        Date  Store Number  \\\n",
       "0        S29198800001  11/20/2015          2191   \n",
       "1        S29195400002  11/21/2015          2205   \n",
       "2        S29050300001  11/16/2015          3549   \n",
       "3        S28867700001  11/04/2015          2513   \n",
       "4        S29050800001  11/17/2015          3942   \n",
       "\n",
       "                         Store Name              Address          City  \\\n",
       "0                    Keokuk Spirits            1013 MAIN        KEOKUK   \n",
       "1            Ding's Honk And Holler     900 E WASHINGTON      CLARINDA   \n",
       "2              Quicker Liquor Store         1414 48TH ST  FORT MADISON   \n",
       "3  Hy-Vee Food Store #2 / Iowa City       812  S 1ST AVE     IOWA CITY   \n",
       "4                  Twin Town Liquor  104 HIGHWAY 30 WEST        TOLEDO   \n",
       "\n",
       "  Zip Code                                     Store Location  County Number  \\\n",
       "0    52632    1013 MAIN\\nKEOKUK 52632\\n(40.39978, -91.387531)           56.0   \n",
       "1    51632  900 E WASHINGTON\\nCLARINDA 51632\\n(40.739238, ...           73.0   \n",
       "2    52627  1414 48TH ST\\nFORT MADISON 52627\\n(40.624226, ...           56.0   \n",
       "3    52240                   812 S 1ST AVE\\nIOWA CITY 52240\\n           52.0   \n",
       "4    52342  104 HIGHWAY 30 WEST\\nTOLEDO 52342\\n(41.985887,...           86.0   \n",
       "\n",
       "    County  ...  Item Number                               Item Description  \\\n",
       "0      Lee  ...          297                          Templeton Rye w/Flask   \n",
       "1     Page  ...          297                          Templeton Rye w/Flask   \n",
       "2      Lee  ...          249  Disaronno Amaretto Cavalli Mignon 3-50ml Pack   \n",
       "3  Johnson  ...          237                 Knob Creek w/ Crystal Decanter   \n",
       "4     Tama  ...          249  Disaronno Amaretto Cavalli Mignon 3-50ml Pack   \n",
       "\n",
       "   Pack Bottle Volume (ml)  State Bottle Cost State Bottle Retail  \\\n",
       "0     6                750             $18.09              $27.14   \n",
       "1     6                750             $18.09              $27.14   \n",
       "2    20                150              $6.40               $9.60   \n",
       "3     3               1750             $35.55              $53.34   \n",
       "4    20                150              $6.40               $9.60   \n",
       "\n",
       "   Bottles Sold  Sale (Dollars) Volume Sold (Liters) Volume Sold (Gallons)  \n",
       "0             6         $162.84                 4.50                  1.19  \n",
       "1            12         $325.68                 9.00                  2.38  \n",
       "2             2          $19.20                 0.30                  0.08  \n",
       "3             3         $160.02                 5.25                  1.39  \n",
       "4             2          $19.20                 0.30                  0.08  \n",
       "\n",
       "[5 rows x 24 columns]"
      ]
     },
     "execution_count": 2,
     "metadata": {},
     "output_type": "execute_result"
    }
   ],
   "source": [
    "data_all = pd.read_csv(\"Iowa_Liquor_Sales.csv\")\n",
    "data_all.head(5)"
   ]
  },
  {
   "cell_type": "code",
   "execution_count": 3,
   "metadata": {
    "scrolled": true
   },
   "outputs": [
    {
     "name": "stdout",
     "output_type": "stream",
     "text": [
      "The entire dataset dimension:  (12591077, 24)\n",
      "Attributes: Index(['Invoice/Item Number', 'Date', 'Store Number', 'Store Name', 'Address',\n",
      "       'City', 'Zip Code', 'Store Location', 'County Number', 'County',\n",
      "       'Category', 'Category Name', 'Vendor Number', 'Vendor Name',\n",
      "       'Item Number', 'Item Description', 'Pack', 'Bottle Volume (ml)',\n",
      "       'State Bottle Cost', 'State Bottle Retail', 'Bottles Sold',\n",
      "       'Sale (Dollars)', 'Volume Sold (Liters)', 'Volume Sold (Gallons)'],\n",
      "      dtype='object')\n"
     ]
    }
   ],
   "source": [
    "print(\"The entire dataset dimension: \",data_all.shape) # (12591077, 24)\n",
    "print(\"Attributes:\",data_all.columns) # (12591077, 24)"
   ]
  },
  {
   "cell_type": "code",
   "execution_count": 4,
   "metadata": {
    "scrolled": true
   },
   "outputs": [
    {
     "name": "stdout",
     "output_type": "stream",
     "text": [
      "Missing values:\n",
      " Invoice/Item Number          0\n",
      "Date                         0\n",
      "Store Number                 0\n",
      "Store Name                   0\n",
      "Address                   2376\n",
      "City                      2375\n",
      "Zip Code                  2420\n",
      "Store Location            2375\n",
      "County Number            79178\n",
      "County                   79178\n",
      "Category                  8020\n",
      "Category Name            16086\n",
      "Vendor Number                3\n",
      "Vendor Name                  1\n",
      "Item Number                  0\n",
      "Item Description             0\n",
      "Pack                         0\n",
      "Bottle Volume (ml)           0\n",
      "State Bottle Cost           10\n",
      "State Bottle Retail         10\n",
      "Bottles Sold                 0\n",
      "Sale (Dollars)              10\n",
      "Volume Sold (Liters)         0\n",
      "Volume Sold (Gallons)        0\n",
      "dtype: int64\n"
     ]
    }
   ],
   "source": [
    "# check missing values \n",
    "print(\"Missing values:\\n\",data_all.isnull().sum()) "
   ]
  },
  {
   "cell_type": "code",
   "execution_count": 6,
   "metadata": {},
   "outputs": [],
   "source": [
    "# drop records with missing values \n",
    "data_all = data_all.dropna()"
   ]
  },
  {
   "cell_type": "code",
   "execution_count": 6,
   "metadata": {
    "scrolled": true
   },
   "outputs": [
    {
     "name": "stdout",
     "output_type": "stream",
     "text": [
      "##################\n",
      " City\n",
      "ACKLEY       2722\n",
      "ADAIR        1567\n",
      "ADEL        10878\n",
      "AFTON         994\n",
      "AKRON        2094\n",
      "            ...  \n",
      "Winthrop      994\n",
      "Woodbine     2770\n",
      "Woodward      605\n",
      "ZWINGLE      1260\n",
      "Zwingle       455\n",
      "Length: 790, dtype: int64\n",
      "##################\n",
      " County\n",
      "ADAIR           2503\n",
      "ADAMS           2066\n",
      "ALLAMAKEE      11260\n",
      "APPANOOSE      10076\n",
      "AUDUBON         2143\n",
      "               ...  \n",
      "Winnebago      33984\n",
      "Winneshiek     55567\n",
      "Woodbury      287930\n",
      "Worth          12643\n",
      "Wright         27719\n",
      "Length: 200, dtype: int64\n",
      "##################\n",
      " Item Number\n",
      "101       31\n",
      "102       31\n",
      "104       10\n",
      "107       31\n",
      "108       39\n",
      "          ..\n",
      "996026     3\n",
      "997085     1\n",
      "997086     3\n",
      "997878     3\n",
      "999275     1\n",
      "Length: 7263, dtype: int64\n"
     ]
    }
   ],
   "source": [
    "print(\"##################\\n\",data_all.groupby(\"City\").size()) # 790 cities\n",
    "print(\"##################\\n\",data_all.groupby(\"County\").size()) # 200 cities\n",
    "print(\"##################\\n\",data_all.groupby(\"Item Number\").size())# 7263 brands"
   ]
  },
  {
   "cell_type": "code",
   "execution_count": 7,
   "metadata": {},
   "outputs": [],
   "source": [
    "# top three categories \n",
    "#l = data_all.loc[:, [\"Volume Sold (Liters)\", \"Category\"]].groupby(\"Category\").sum()\n",
    "#l = l.sort_values(by = \"Volume Sold (Liters)\", ascending = False).reset_index()\n",
    "#l.iloc[:3, 0].to_list()"
   ]
  },
  {
   "cell_type": "code",
   "execution_count": 7,
   "metadata": {},
   "outputs": [
    {
     "name": "stdout",
     "output_type": "stream",
     "text": [
      "(12495974, 28)\n"
     ]
    }
   ],
   "source": [
    "#top_three_category = l.iloc[:3, 0].to_list()\n",
    "#data = data_all.loc[data_all[\"Category\"].isin(top_three_category),:]\n",
    "data = data_all\n",
    "data.Category.value_counts()\n",
    "print(data.shape)"
   ]
  },
  {
   "cell_type": "markdown",
   "metadata": {},
   "source": [
    "### Pre-processing "
   ]
  },
  {
   "cell_type": "code",
   "execution_count": 54,
   "metadata": {
    "scrolled": true
   },
   "outputs": [
    {
     "data": {
      "text/plain": [
       "71.0    2\n",
       "78.0    2\n",
       "17.0    2\n",
       "11.0    2\n",
       "35.0    1\n",
       "       ..\n",
       "67.0    1\n",
       "68.0    1\n",
       "69.0    1\n",
       "70.0    1\n",
       "1.0     1\n",
       "Name: County Number, Length: 99, dtype: int64"
      ]
     },
     "execution_count": 54,
     "metadata": {},
     "output_type": "execute_result"
    }
   ],
   "source": [
    "county_countN_df[\"County Number\"].value_counts()"
   ]
  },
  {
   "cell_type": "code",
   "execution_count": 8,
   "metadata": {
    "scrolled": false
   },
   "outputs": [
    {
     "name": "stdout",
     "output_type": "stream",
     "text": [
      "Counties with the same county number but conflicting names\n",
      "           County  County Number    Date\n",
      "10    Buena Vista           11.0  120166\n",
      "16    Cerro Gordo           17.0  288973\n",
      "70        O'Brien           71.0   82953\n",
      "77  Pottawattamie           78.0  415909\n"
     ]
    }
   ],
   "source": [
    "#pd.set_option('display.max_rows', 10)\n",
    "data[\"County\"] = data[\"County\"].str.title()\n",
    "data[\"City\"] = data[\"City\"].str.title()\n",
    "county_countN_df = data.loc[:,[\"County\",\"County Number\",\"Date\"]].groupby([\"County\",\"County Number\"]).count().reset_index()\n",
    "print(\"Counties with the same county number but conflicting names\")\n",
    "county_countN_df[\"County Number\"].value_counts()\n",
    "print(county_countN_df.loc[county_countN_df[\"County Number\"].isin([71.0, 78.0,17.0, 11.0]),:])\n",
    "\n",
    "data.County = data.County.replace([\"Buena Vist\",\"Cerro Gord\",\n",
    "                                   \"Obrien\",\"Pottawatta\"], [\"Buena Vista\",\"Cerro Gordo\",\n",
    "                                                            \"O'brien\",\"Pottawattamie\"])\n"
   ]
  },
  {
   "cell_type": "code",
   "execution_count": 9,
   "metadata": {
    "scrolled": false
   },
   "outputs": [],
   "source": [
    "# convert data types \n",
    "data[\"Date\"]  = pd.to_datetime(data['Date'],format='%m/%d/%Y')\n",
    "data['year'] = pd.DatetimeIndex(data['Date']).year\n",
    "data['month'] = pd.DatetimeIndex(data['Date']).month\n",
    "data['day'] = pd.DatetimeIndex(data['Date']).day\n",
    "data[\"week_of_day\"] = data[\"Date\"].dt.dayofweek+1\n",
    "data[\"week_of_day\"] = data[\"week_of_day\"].astype(\"category\")\n",
    "data.loc[:,\"Sale (Dollars)\"] = data.loc[:, \"Sale (Dollars)\"].str[1:]\n",
    "data.loc[:,\"State Bottle Cost\"] = data.loc[:, \"State Bottle Cost\"].str[1:]\n",
    "data.loc[:,\"State Bottle Retail\"] = data.loc[:, \"State Bottle Retail\"].str[1:]\n",
    "data[\"Store Number\"] = data[\"Store Number\"].astype(\"category\")\n",
    "data[\"County Number\"] = data[\"County Number\"].astype(\"int\")\n",
    "data[\"County Number\"] = data[\"County Number\"].astype(\"category\")\n",
    "data[\"Category\"] = data[\"Category\"].astype(\"int\")\n",
    "data[\"Category\"] = data[\"Category\"].astype(\"category\")\n",
    "data[\"County\"] = data[\"County\"].astype(\"category\")\n",
    "data[\"City\"] = data[\"City\"].astype(\"category\")\n",
    "data[\"Sale (Dollars)\"] = data[\"Sale (Dollars)\"].astype(\"float\")\n",
    "data[\"State Bottle Cost\"] = data[\"State Bottle Cost\"].astype(\"float\")\n",
    "data[\"State Bottle Retail\"] = data[\"State Bottle Retail\"].astype(\"float\")"
   ]
  },
  {
   "cell_type": "code",
   "execution_count": 10,
   "metadata": {},
   "outputs": [],
   "source": [
    "# remove potential errors \n",
    "cond1 = data[\"Bottle Volume (ml)\"] == 0\n",
    "cond2 = data[\"State Bottle Cost\"] == 0\n",
    "cond3 = data[\"State Bottle Retail\"] == 0\n",
    "cond4 = data[\"Sale (Dollars)\"] == 0\n",
    "cond5 = data[\"Bottles Sold\"] ==0\n",
    "cond6 = data[\"Volume Sold (Liters)\"] ==0\n",
    "data = data.loc[~(cond1|cond2|cond3|cond4|cond5|cond6),:] # 5039 rows removed\n",
    "# = (12490935, 27)"
   ]
  },
  {
   "cell_type": "code",
   "execution_count": 11,
   "metadata": {
    "scrolled": true
   },
   "outputs": [],
   "source": [
    "data[\"latitude\"]  = [re.findall(r\"\\((.+?),\",i) for i in data[\"Store Location\"]]\n",
    "data[\"longitude\"]  = [re.findall(r\", (.+?)\\)\",i) for i in data[\"Store Location\"]]\n",
    "# 2981046 (about 600 records with missing coordinates)\n",
    "filtered_coord = [len(data.iloc[i, 28]) != 0 for i in range(data.shape[0])]\n",
    "filtered_coord\n",
    "data_filtered = data.loc[filtered_coord, :]\n",
    "data_filtered.latitude = data_filtered.latitude.map(lambda x:x[0])\n",
    "data_filtered.longitude = data_filtered.longitude.map(lambda x:x[0])\n",
    "data_filtered.latitude = data_filtered.latitude.astype(\"float\")\n",
    "data_filtered.longitude = data_filtered.longitude.astype(\"float\")"
   ]
  },
  {
   "cell_type": "code",
   "execution_count": 16,
   "metadata": {
    "collapsed": true
   },
   "outputs": [
    {
     "data": {
      "text/html": [
       "<div>\n",
       "<style scoped>\n",
       "    .dataframe tbody tr th:only-of-type {\n",
       "        vertical-align: middle;\n",
       "    }\n",
       "\n",
       "    .dataframe tbody tr th {\n",
       "        vertical-align: top;\n",
       "    }\n",
       "\n",
       "    .dataframe thead th {\n",
       "        text-align: right;\n",
       "    }\n",
       "</style>\n",
       "<table border=\"1\" class=\"dataframe\">\n",
       "  <thead>\n",
       "    <tr style=\"text-align: right;\">\n",
       "      <th></th>\n",
       "      <th>County Number</th>\n",
       "      <th>store_count</th>\n",
       "      <th>Invoice/Item Number</th>\n",
       "      <th>Date</th>\n",
       "      <th>Store Number</th>\n",
       "      <th>Store Name</th>\n",
       "      <th>Address</th>\n",
       "      <th>City</th>\n",
       "      <th>Zip Code</th>\n",
       "      <th>Store Location</th>\n",
       "      <th>...</th>\n",
       "      <th>Bottles Sold</th>\n",
       "      <th>Sale (Dollars)</th>\n",
       "      <th>Volume Sold (Liters)</th>\n",
       "      <th>Volume Sold (Gallons)</th>\n",
       "      <th>year</th>\n",
       "      <th>month</th>\n",
       "      <th>day</th>\n",
       "      <th>week_of_day</th>\n",
       "      <th>latitude</th>\n",
       "      <th>longitude</th>\n",
       "    </tr>\n",
       "  </thead>\n",
       "  <tbody>\n",
       "    <tr>\n",
       "      <th>0</th>\n",
       "      <td>1</td>\n",
       "      <td>24652</td>\n",
       "      <td>S25010500014</td>\n",
       "      <td>2015-04-13</td>\n",
       "      <td>3461</td>\n",
       "      <td>Hometown Foods / Stuart</td>\n",
       "      <td>611 S DIVISION ST</td>\n",
       "      <td>Stuart</td>\n",
       "      <td>50250</td>\n",
       "      <td>611 S DIVISION ST\\nSTUART 50250\\n(41.503441, -...</td>\n",
       "      <td>...</td>\n",
       "      <td>12</td>\n",
       "      <td>4.20</td>\n",
       "      <td>9.00</td>\n",
       "      <td>2.38</td>\n",
       "      <td>2015</td>\n",
       "      <td>4</td>\n",
       "      <td>13</td>\n",
       "      <td>1</td>\n",
       "      <td>41.503441</td>\n",
       "      <td>-94.318377</td>\n",
       "    </tr>\n",
       "    <tr>\n",
       "      <th>1</th>\n",
       "      <td>1</td>\n",
       "      <td>24652</td>\n",
       "      <td>S06740200006</td>\n",
       "      <td>2012-07-25</td>\n",
       "      <td>4417</td>\n",
       "      <td>KUM &amp; GO #76 / ADAIR</td>\n",
       "      <td>109 S 5TH ST</td>\n",
       "      <td>Adair</td>\n",
       "      <td>50002</td>\n",
       "      <td>109 S 5TH ST\\nADAIR 50002\\n(41.498434, -93.491...</td>\n",
       "      <td>...</td>\n",
       "      <td>12</td>\n",
       "      <td>16.88</td>\n",
       "      <td>9.00</td>\n",
       "      <td>2.38</td>\n",
       "      <td>2012</td>\n",
       "      <td>7</td>\n",
       "      <td>25</td>\n",
       "      <td>3</td>\n",
       "      <td>41.498434</td>\n",
       "      <td>-93.491137</td>\n",
       "    </tr>\n",
       "    <tr>\n",
       "      <th>2</th>\n",
       "      <td>1</td>\n",
       "      <td>24652</td>\n",
       "      <td>S24760800016</td>\n",
       "      <td>2015-03-30</td>\n",
       "      <td>3461</td>\n",
       "      <td>Hometown Foods / Stuart</td>\n",
       "      <td>611 S DIVISION ST</td>\n",
       "      <td>Stuart</td>\n",
       "      <td>50250</td>\n",
       "      <td>611 S DIVISION ST\\nSTUART 50250\\n(41.503441, -...</td>\n",
       "      <td>...</td>\n",
       "      <td>4</td>\n",
       "      <td>0.44</td>\n",
       "      <td>1.50</td>\n",
       "      <td>0.40</td>\n",
       "      <td>2015</td>\n",
       "      <td>3</td>\n",
       "      <td>30</td>\n",
       "      <td>1</td>\n",
       "      <td>41.503441</td>\n",
       "      <td>-94.318377</td>\n",
       "    </tr>\n",
       "    <tr>\n",
       "      <th>3</th>\n",
       "      <td>1</td>\n",
       "      <td>24652</td>\n",
       "      <td>S19274300014</td>\n",
       "      <td>2014-06-02</td>\n",
       "      <td>4654</td>\n",
       "      <td>KUM &amp; GO #510 / STUART</td>\n",
       "      <td>629 S DIVISION ST</td>\n",
       "      <td>Stuart</td>\n",
       "      <td>50250</td>\n",
       "      <td>629 S DIVISION ST\\nSTUART 50250\\n(41.503431, -...</td>\n",
       "      <td>...</td>\n",
       "      <td>2</td>\n",
       "      <td>6.62</td>\n",
       "      <td>1.00</td>\n",
       "      <td>0.26</td>\n",
       "      <td>2014</td>\n",
       "      <td>6</td>\n",
       "      <td>2</td>\n",
       "      <td>1</td>\n",
       "      <td>41.503431</td>\n",
       "      <td>-94.318377</td>\n",
       "    </tr>\n",
       "    <tr>\n",
       "      <th>4</th>\n",
       "      <td>1</td>\n",
       "      <td>24652</td>\n",
       "      <td>S13708900009</td>\n",
       "      <td>2013-08-05</td>\n",
       "      <td>3461</td>\n",
       "      <td>Hometown Foods / Stuart</td>\n",
       "      <td>611 S DIVISION ST</td>\n",
       "      <td>Stuart</td>\n",
       "      <td>50250</td>\n",
       "      <td>611 S DIVISION ST\\nSTUART 50250\\n(41.503441, -...</td>\n",
       "      <td>...</td>\n",
       "      <td>12</td>\n",
       "      <td>13.88</td>\n",
       "      <td>9.00</td>\n",
       "      <td>2.38</td>\n",
       "      <td>2013</td>\n",
       "      <td>8</td>\n",
       "      <td>5</td>\n",
       "      <td>1</td>\n",
       "      <td>41.503441</td>\n",
       "      <td>-94.318377</td>\n",
       "    </tr>\n",
       "    <tr>\n",
       "      <th>...</th>\n",
       "      <td>...</td>\n",
       "      <td>...</td>\n",
       "      <td>...</td>\n",
       "      <td>...</td>\n",
       "      <td>...</td>\n",
       "      <td>...</td>\n",
       "      <td>...</td>\n",
       "      <td>...</td>\n",
       "      <td>...</td>\n",
       "      <td>...</td>\n",
       "      <td>...</td>\n",
       "      <td>...</td>\n",
       "      <td>...</td>\n",
       "      <td>...</td>\n",
       "      <td>...</td>\n",
       "      <td>...</td>\n",
       "      <td>...</td>\n",
       "      <td>...</td>\n",
       "      <td>...</td>\n",
       "      <td>...</td>\n",
       "      <td>...</td>\n",
       "    </tr>\n",
       "    <tr>\n",
       "      <th>10733953</th>\n",
       "      <td>99</td>\n",
       "      <td>33687</td>\n",
       "      <td>INV-08296900008</td>\n",
       "      <td>2017-10-27</td>\n",
       "      <td>5302</td>\n",
       "      <td>Yesway Store # 10034/ Belmond</td>\n",
       "      <td>112 River Ave S</td>\n",
       "      <td>Belmond</td>\n",
       "      <td>50421</td>\n",
       "      <td>112 River Ave S\\nBelmond 50421\\n(42.84535, -93...</td>\n",
       "      <td>...</td>\n",
       "      <td>1</td>\n",
       "      <td>21.56</td>\n",
       "      <td>0.75</td>\n",
       "      <td>0.19</td>\n",
       "      <td>2017</td>\n",
       "      <td>10</td>\n",
       "      <td>27</td>\n",
       "      <td>5</td>\n",
       "      <td>42.845350</td>\n",
       "      <td>-93.616821</td>\n",
       "    </tr>\n",
       "    <tr>\n",
       "      <th>10733954</th>\n",
       "      <td>99</td>\n",
       "      <td>33687</td>\n",
       "      <td>INV-08296900009</td>\n",
       "      <td>2017-10-27</td>\n",
       "      <td>5302</td>\n",
       "      <td>Yesway Store # 10034/ Belmond</td>\n",
       "      <td>112 River Ave S</td>\n",
       "      <td>Belmond</td>\n",
       "      <td>50421</td>\n",
       "      <td>112 River Ave S\\nBelmond 50421\\n(42.84535, -93...</td>\n",
       "      <td>...</td>\n",
       "      <td>1</td>\n",
       "      <td>3.92</td>\n",
       "      <td>0.37</td>\n",
       "      <td>0.09</td>\n",
       "      <td>2017</td>\n",
       "      <td>10</td>\n",
       "      <td>27</td>\n",
       "      <td>5</td>\n",
       "      <td>42.845350</td>\n",
       "      <td>-93.616821</td>\n",
       "    </tr>\n",
       "    <tr>\n",
       "      <th>10733955</th>\n",
       "      <td>99</td>\n",
       "      <td>33687</td>\n",
       "      <td>INV-08296900010</td>\n",
       "      <td>2017-10-27</td>\n",
       "      <td>5302</td>\n",
       "      <td>Yesway Store # 10034/ Belmond</td>\n",
       "      <td>112 River Ave S</td>\n",
       "      <td>Belmond</td>\n",
       "      <td>50421</td>\n",
       "      <td>112 River Ave S\\nBelmond 50421\\n(42.84535, -93...</td>\n",
       "      <td>...</td>\n",
       "      <td>1</td>\n",
       "      <td>5.68</td>\n",
       "      <td>0.75</td>\n",
       "      <td>0.19</td>\n",
       "      <td>2017</td>\n",
       "      <td>10</td>\n",
       "      <td>27</td>\n",
       "      <td>5</td>\n",
       "      <td>42.845350</td>\n",
       "      <td>-93.616821</td>\n",
       "    </tr>\n",
       "    <tr>\n",
       "      <th>10733956</th>\n",
       "      <td>99</td>\n",
       "      <td>33687</td>\n",
       "      <td>INV-08296900011</td>\n",
       "      <td>2017-10-27</td>\n",
       "      <td>5302</td>\n",
       "      <td>Yesway Store # 10034/ Belmond</td>\n",
       "      <td>112 River Ave S</td>\n",
       "      <td>Belmond</td>\n",
       "      <td>50421</td>\n",
       "      <td>112 River Ave S\\nBelmond 50421\\n(42.84535, -93...</td>\n",
       "      <td>...</td>\n",
       "      <td>1</td>\n",
       "      <td>26.00</td>\n",
       "      <td>0.37</td>\n",
       "      <td>0.09</td>\n",
       "      <td>2017</td>\n",
       "      <td>10</td>\n",
       "      <td>27</td>\n",
       "      <td>5</td>\n",
       "      <td>42.845350</td>\n",
       "      <td>-93.616821</td>\n",
       "    </tr>\n",
       "    <tr>\n",
       "      <th>10733957</th>\n",
       "      <td>99</td>\n",
       "      <td>33687</td>\n",
       "      <td>INV-08296900012</td>\n",
       "      <td>2017-10-27</td>\n",
       "      <td>5302</td>\n",
       "      <td>Yesway Store # 10034/ Belmond</td>\n",
       "      <td>112 River Ave S</td>\n",
       "      <td>Belmond</td>\n",
       "      <td>50421</td>\n",
       "      <td>112 River Ave S\\nBelmond 50421\\n(42.84535, -93...</td>\n",
       "      <td>...</td>\n",
       "      <td>1</td>\n",
       "      <td>66.62</td>\n",
       "      <td>1.75</td>\n",
       "      <td>0.46</td>\n",
       "      <td>2017</td>\n",
       "      <td>10</td>\n",
       "      <td>27</td>\n",
       "      <td>5</td>\n",
       "      <td>42.845350</td>\n",
       "      <td>-93.616821</td>\n",
       "    </tr>\n",
       "  </tbody>\n",
       "</table>\n",
       "<p>10733958 rows × 31 columns</p>\n",
       "</div>"
      ],
      "text/plain": [
       "         County Number  store_count Invoice/Item Number       Date  \\\n",
       "0                    1        24652        S25010500014 2015-04-13   \n",
       "1                    1        24652        S06740200006 2012-07-25   \n",
       "2                    1        24652        S24760800016 2015-03-30   \n",
       "3                    1        24652        S19274300014 2014-06-02   \n",
       "4                    1        24652        S13708900009 2013-08-05   \n",
       "...                ...          ...                 ...        ...   \n",
       "10733953            99        33687     INV-08296900008 2017-10-27   \n",
       "10733954            99        33687     INV-08296900009 2017-10-27   \n",
       "10733955            99        33687     INV-08296900010 2017-10-27   \n",
       "10733956            99        33687     INV-08296900011 2017-10-27   \n",
       "10733957            99        33687     INV-08296900012 2017-10-27   \n",
       "\n",
       "         Store Number                     Store Name            Address  \\\n",
       "0                3461        Hometown Foods / Stuart  611 S DIVISION ST   \n",
       "1                4417           KUM & GO #76 / ADAIR       109 S 5TH ST   \n",
       "2                3461        Hometown Foods / Stuart  611 S DIVISION ST   \n",
       "3                4654         KUM & GO #510 / STUART  629 S DIVISION ST   \n",
       "4                3461        Hometown Foods / Stuart  611 S DIVISION ST   \n",
       "...               ...                            ...                ...   \n",
       "10733953         5302  Yesway Store # 10034/ Belmond    112 River Ave S   \n",
       "10733954         5302  Yesway Store # 10034/ Belmond    112 River Ave S   \n",
       "10733955         5302  Yesway Store # 10034/ Belmond    112 River Ave S   \n",
       "10733956         5302  Yesway Store # 10034/ Belmond    112 River Ave S   \n",
       "10733957         5302  Yesway Store # 10034/ Belmond    112 River Ave S   \n",
       "\n",
       "             City Zip Code                                     Store Location  \\\n",
       "0          Stuart    50250  611 S DIVISION ST\\nSTUART 50250\\n(41.503441, -...   \n",
       "1           Adair    50002  109 S 5TH ST\\nADAIR 50002\\n(41.498434, -93.491...   \n",
       "2          Stuart    50250  611 S DIVISION ST\\nSTUART 50250\\n(41.503441, -...   \n",
       "3          Stuart    50250  629 S DIVISION ST\\nSTUART 50250\\n(41.503431, -...   \n",
       "4          Stuart    50250  611 S DIVISION ST\\nSTUART 50250\\n(41.503441, -...   \n",
       "...           ...      ...                                                ...   \n",
       "10733953  Belmond    50421  112 River Ave S\\nBelmond 50421\\n(42.84535, -93...   \n",
       "10733954  Belmond    50421  112 River Ave S\\nBelmond 50421\\n(42.84535, -93...   \n",
       "10733955  Belmond    50421  112 River Ave S\\nBelmond 50421\\n(42.84535, -93...   \n",
       "10733956  Belmond    50421  112 River Ave S\\nBelmond 50421\\n(42.84535, -93...   \n",
       "10733957  Belmond    50421  112 River Ave S\\nBelmond 50421\\n(42.84535, -93...   \n",
       "\n",
       "          ... Bottles Sold Sale (Dollars) Volume Sold (Liters)  \\\n",
       "0         ...           12           4.20                 9.00   \n",
       "1         ...           12          16.88                 9.00   \n",
       "2         ...            4           0.44                 1.50   \n",
       "3         ...            2           6.62                 1.00   \n",
       "4         ...           12          13.88                 9.00   \n",
       "...       ...          ...            ...                  ...   \n",
       "10733953  ...            1          21.56                 0.75   \n",
       "10733954  ...            1           3.92                 0.37   \n",
       "10733955  ...            1           5.68                 0.75   \n",
       "10733956  ...            1          26.00                 0.37   \n",
       "10733957  ...            1          66.62                 1.75   \n",
       "\n",
       "          Volume Sold (Gallons)  year  month day  week_of_day   latitude  \\\n",
       "0                          2.38  2015      4  13            1  41.503441   \n",
       "1                          2.38  2012      7  25            3  41.498434   \n",
       "2                          0.40  2015      3  30            1  41.503441   \n",
       "3                          0.26  2014      6   2            1  41.503431   \n",
       "4                          2.38  2013      8   5            1  41.503441   \n",
       "...                         ...   ...    ...  ..          ...        ...   \n",
       "10733953                   0.19  2017     10  27            5  42.845350   \n",
       "10733954                   0.09  2017     10  27            5  42.845350   \n",
       "10733955                   0.19  2017     10  27            5  42.845350   \n",
       "10733956                   0.09  2017     10  27            5  42.845350   \n",
       "10733957                   0.46  2017     10  27            5  42.845350   \n",
       "\n",
       "          longitude  \n",
       "0        -94.318377  \n",
       "1        -93.491137  \n",
       "2        -94.318377  \n",
       "3        -94.318377  \n",
       "4        -94.318377  \n",
       "...             ...  \n",
       "10733953 -93.616821  \n",
       "10733954 -93.616821  \n",
       "10733955 -93.616821  \n",
       "10733956 -93.616821  \n",
       "10733957 -93.616821  \n",
       "\n",
       "[10733958 rows x 31 columns]"
      ]
     },
     "execution_count": 16,
     "metadata": {},
     "output_type": "execute_result"
    }
   ],
   "source": [
    "num_store_per_county = data_filtered[['Store Number','County Number']].groupby(\"County Number\").count().reset_index()\n",
    "num_store_per_county.rename(columns={\"Store Number\":\"store_count\"}, inplace = True)\n",
    "num_store_per_county\n",
    "\n",
    "data_filtered = pd.merge(num_store_per_county, data_filtered, on = ['County Number'])\n",
    "data_filtered"
   ]
  },
  {
   "cell_type": "code",
   "execution_count": 19,
   "metadata": {
    "scrolled": false
   },
   "outputs": [
    {
     "data": {
      "text/plain": [
       "Index(['County Number', 'store_count', 'Invoice/Item Number', 'Date',\n",
       "       'Store Number', 'Store Name', 'Address', 'City', 'Zip Code',\n",
       "       'Store Location', 'County', 'Category', 'Category Name',\n",
       "       'Vendor Number', 'Vendor Name', 'Item Number', 'Item Description',\n",
       "       'Pack', 'Bottle Volume (ml)', 'State Bottle Cost',\n",
       "       'State Bottle Retail', 'Bottles Sold', 'Sale (Dollars)',\n",
       "       'Volume Sold (Liters)', 'Volume Sold (Gallons)', 'year', 'month', 'day',\n",
       "       'week_of_day', 'latitude', 'longitude'],\n",
       "      dtype='object')"
      ]
     },
     "execution_count": 19,
     "metadata": {},
     "output_type": "execute_result"
    }
   ],
   "source": [
    "data_filtered.columns"
   ]
  },
  {
   "cell_type": "code",
   "execution_count": 21,
   "metadata": {
    "scrolled": true
   },
   "outputs": [],
   "source": [
    "data_final = data_filtered[['year', 'month', 'day', 'latitude', 'longitude', \n",
    "                            'week_of_day','Pack','City', 'Category','County Number','store_count',\n",
    "                            'Item Number','Bottle Volume (ml)','State Bottle Cost', \n",
    "                            'State Bottle Retail','Volume Sold (Liters)','Store Number']]\n",
    "data_final.rename(columns = {\"County Number\":\"county_number\", \n",
    "                             \"Volume Sold (Liters)\":\"volume_sold\",\n",
    "                             \"Pack\":\"pack\",\n",
    "                             \"City\":\"city\",\"Category\":\"category\",\n",
    "                             \"Store Number\":\"store_number\",\n",
    "                             \"State Bottle Retail\":\"retail_price\",\n",
    "                             \"State Bottle Cost\":\"cost_price\",\n",
    "                             \"County Number\":\"county_number\",\n",
    "                             \"Item Number\":\"item_number\",\n",
    "                             \"Bottle Volume (ml)\":\"bottle_volume\"}, inplace = True)"
   ]
  },
  {
   "cell_type": "code",
   "execution_count": 66,
   "metadata": {
    "scrolled": true
   },
   "outputs": [
    {
     "name": "stdout",
     "output_type": "stream",
     "text": [
      "2633    111641\n",
      "4829     89200\n",
      "2190     85657\n",
      "2512     84645\n",
      "2614     72129\n",
      "         ...  \n",
      "2478         0\n",
      "2659         0\n",
      "4121         0\n",
      "5336         0\n",
      "5057         0\n",
      "Name: Store Number, Length: 1882, dtype: int64\n",
      "Hy-Vee #3 / BDI / Des Moines           111641\n",
      "Central City 2                          89200\n",
      "Central City Liquor, Inc.               85657\n",
      "Hy-Vee Wine and Spirits / Iowa City     84645\n",
      "Hy-Vee #3 Food and Drugstore            72129\n",
      "                                        ...  \n",
      "Lonely Oak Distillery                       7\n",
      "Templeton Rye                               6\n",
      "Lonely Oak Distilery                        6\n",
      "Best Case Wines                             2\n",
      "Thome Enterprises LLC                       1\n",
      "Name: Store Name, Length: 1893, dtype: int64\n"
     ]
    }
   ],
   "source": [
    "#print(data_filtered[\"Store Number\"].value_counts()) # 1882\n",
    "#print(data_filtered[\"Store Name\"].value_counts()) #  1893\n",
    "#print(data_all.shape, data_filtered.shape)\n",
    "#data_filtered.groupby([\"Store Name\",\"Store Number\"]).size().reset_index()\n",
    "\n",
    "#val_counts = c[\"Store Name\"].value_counts()\n",
    "#val_counts[val_counts.values>1]\n",
    "# c.value_counts(\"Store Number\").index\n",
    "# data_filtered.sort_values(by=[\"Store Name\", \"Store Number\"]).unique()\n",
    "\n",
    "#pd.set_option('display.max_rows', 1951)\n",
    "#c = data_filtered[[\"Store Name\",\"Store Number\"]].drop_duplicates().sort_values(by = \"Store Number\").reset_index()\n"
   ]
  },
  {
   "cell_type": "code",
   "execution_count": 22,
   "metadata": {
    "scrolled": true
   },
   "outputs": [
    {
     "data": {
      "text/plain": [
       "year                int64\n",
       "month               int64\n",
       "day                 int64\n",
       "latitude          float64\n",
       "longitude         float64\n",
       "week_of_day      category\n",
       "pack                int64\n",
       "city             category\n",
       "category         category\n",
       "county_number    category\n",
       "store_count         int64\n",
       "item_number         int64\n",
       "bottle_volume       int64\n",
       "cost_price        float64\n",
       "retail_price      float64\n",
       "volume_sold       float64\n",
       "store_number     category\n",
       "dtype: object"
      ]
     },
     "execution_count": 22,
     "metadata": {},
     "output_type": "execute_result"
    }
   ],
   "source": [
    "data_final.dtypes"
   ]
  },
  {
   "cell_type": "code",
   "execution_count": 39,
   "metadata": {
    "scrolled": true
   },
   "outputs": [],
   "source": [
    "#data_final.describe()\n",
    "data_final[\"log_volume_sold\"] = np.log(data_final[\"volume_sold\"])\n",
    "data_final[\"log_cost_price\"] = np.log(data_final[\"cost_price\"])\n",
    "data_final[\"log_store_count\"] = np.log(data_final[\"store_count\"])\n",
    "data_final[\"log_retail_price\"] = np.log(data_final[\"retail_price\"])\n",
    "data_final[\"log_bottle_volume\"] = np.log(data_final[\"bottle_volume\"])"
   ]
  },
  {
   "cell_type": "code",
   "execution_count": 48,
   "metadata": {},
   "outputs": [],
   "source": [
    "subs = data_final.sample(n = 100000, replace = False, random_state = 100)"
   ]
  },
  {
   "cell_type": "code",
   "execution_count": 47,
   "metadata": {
    "scrolled": true
   },
   "outputs": [
    {
     "data": {
      "text/plain": [
       "(12495974, 28)"
      ]
     },
     "execution_count": 47,
     "metadata": {},
     "output_type": "execute_result"
    }
   ],
   "source": [
    "data_final.shape#10733958\n",
    "data_all.shape#12495974"
   ]
  },
  {
   "cell_type": "code",
   "execution_count": null,
   "metadata": {},
   "outputs": [],
   "source": [
    "def drop_3IQR_val(df, col_name):\n",
    "    q1 = df[col_name].quantile(0.25)\n",
    "    q3 = df[col_name].quantile(0.75)\n",
    "    IQR = q3 - q1\n",
    "    df = df.drop(df[(df[col_name] > q3 + 3*IQR) | (df[col_name] < q1 - 3*IQR)].index)\n",
    "    return (df)\n"
   ]
  },
  {
   "cell_type": "code",
   "execution_count": null,
   "metadata": {},
   "outputs": [],
   "source": [
    "data_final.shape# (10733958, 22)\n",
    "\n",
    "# after dropping 3 IQR for volume sold = (10495882, 22)\n",
    "\n",
    "\n",
    "# after dropping 3 IQR for cost price sold = (9550918, 22)\n",
    "# after dropping 3 IQR for cost retail sold = (9550191, 22)\n",
    "# after dropping 3 IQR for pack = (9308776, 22)\n",
    "# after dropping 3 IQR for store count = (9308776, 22)"
   ]
  },
  {
   "cell_type": "code",
   "execution_count": null,
   "metadata": {},
   "outputs": [],
   "source": []
  },
  {
   "cell_type": "code",
   "execution_count": null,
   "metadata": {},
   "outputs": [],
   "source": []
  },
  {
   "cell_type": "code",
   "execution_count": null,
   "metadata": {
    "scrolled": false
   },
   "outputs": [],
   "source": [
    "sns.pairplot(subs[[\"volume_sold\",\"log_volume_sold\",\"store_count\",\n",
    "                   \"log_store_count\",\"log_cost_price\",\n",
    "                   \"cost_price\",\"retail_price\",\"log_retail_price\",\n",
    "                   \"bottle_volume\",\"log_bottle_volume\"]])\n",
    "plt.show()"
   ]
  },
  {
   "cell_type": "code",
   "execution_count": null,
   "metadata": {},
   "outputs": [],
   "source": [
    "data_final[[\"volume_sold\",\"store_count\",\"cost_price\",\"retail_price\",\"bottle_volume\"]].describe()"
   ]
  },
  {
   "cell_type": "markdown",
   "metadata": {},
   "source": [
    "### Visualisation "
   ]
  },
  {
   "cell_type": "code",
   "execution_count": 24,
   "metadata": {},
   "outputs": [
    {
     "data": {
      "text/plain": [
       "<AxesSubplot:>"
      ]
     },
     "execution_count": 24,
     "metadata": {},
     "output_type": "execute_result"
    },
    {
     "data": {
      "image/png": "[encoded data removed]",
      "text/plain": [
       "<Figure size 1440x1440 with 2 Axes>"
      ]
     },
     "metadata": {
      "needs_background": "light"
     },
     "output_type": "display_data"
    }
   ],
   "source": [
    "plt.figure(figsize=(20, 20))\n",
    "cor = data_final.corr(method='pearson')\n",
    "sns.heatmap(cor,annot = True,cmap= plt.cm.Blues)\n",
    "\n",
    "#plt.show()\n",
    "#plt.savefig('heatmap1.pdf')\n"
   ]
  },
  {
   "cell_type": "code",
   "execution_count": 39,
   "metadata": {},
   "outputs": [],
   "source": [
    "data_filtered[\"week_of_day\"] = data_filtered[\"week_of_day\"].astype(\"category\")"
   ]
  },
  {
   "cell_type": "code",
   "execution_count": 44,
   "metadata": {},
   "outputs": [
    {
     "data": {
      "text/html": [
       "<div>\n",
       "<style scoped>\n",
       "    .dataframe tbody tr th:only-of-type {\n",
       "        vertical-align: middle;\n",
       "    }\n",
       "\n",
       "    .dataframe tbody tr th {\n",
       "        vertical-align: top;\n",
       "    }\n",
       "\n",
       "    .dataframe thead th {\n",
       "        text-align: right;\n",
       "    }\n",
       "</style>\n",
       "<table border=\"1\" class=\"dataframe\">\n",
       "  <thead>\n",
       "    <tr style=\"text-align: right;\">\n",
       "      <th></th>\n",
       "      <th></th>\n",
       "      <th>count</th>\n",
       "      <th>mean</th>\n",
       "      <th>std</th>\n",
       "      <th>min</th>\n",
       "      <th>25%</th>\n",
       "      <th>50%</th>\n",
       "      <th>75%</th>\n",
       "      <th>max</th>\n",
       "    </tr>\n",
       "    <tr>\n",
       "      <th>Category</th>\n",
       "      <th>State Bottle Cost</th>\n",
       "      <th></th>\n",
       "      <th></th>\n",
       "      <th></th>\n",
       "      <th></th>\n",
       "      <th></th>\n",
       "      <th></th>\n",
       "      <th></th>\n",
       "      <th></th>\n",
       "    </tr>\n",
       "  </thead>\n",
       "  <tbody>\n",
       "    <tr>\n",
       "      <th rowspan=\"5\" valign=\"top\">1011100.0</th>\n",
       "      <th>0.94</th>\n",
       "      <td>1.0</td>\n",
       "      <td>0.94</td>\n",
       "      <td>NaN</td>\n",
       "      <td>0.94</td>\n",
       "      <td>0.94</td>\n",
       "      <td>0.94</td>\n",
       "      <td>0.94</td>\n",
       "      <td>0.94</td>\n",
       "    </tr>\n",
       "    <tr>\n",
       "      <th>1.05</th>\n",
       "      <td>284.0</td>\n",
       "      <td>1.05</td>\n",
       "      <td>5.560914e-15</td>\n",
       "      <td>1.05</td>\n",
       "      <td>1.05</td>\n",
       "      <td>1.05</td>\n",
       "      <td>1.05</td>\n",
       "      <td>1.05</td>\n",
       "    </tr>\n",
       "    <tr>\n",
       "      <th>1.16</th>\n",
       "      <td>1192.0</td>\n",
       "      <td>1.16</td>\n",
       "      <td>1.355041e-14</td>\n",
       "      <td>1.16</td>\n",
       "      <td>1.16</td>\n",
       "      <td>1.16</td>\n",
       "      <td>1.16</td>\n",
       "      <td>1.16</td>\n",
       "    </tr>\n",
       "    <tr>\n",
       "      <th>1.17</th>\n",
       "      <td>988.0</td>\n",
       "      <td>1.17</td>\n",
       "      <td>7.553340e-15</td>\n",
       "      <td>1.17</td>\n",
       "      <td>1.17</td>\n",
       "      <td>1.17</td>\n",
       "      <td>1.17</td>\n",
       "      <td>1.17</td>\n",
       "    </tr>\n",
       "    <tr>\n",
       "      <th>1.19</th>\n",
       "      <td>114.0</td>\n",
       "      <td>1.19</td>\n",
       "      <td>1.561175e-15</td>\n",
       "      <td>1.19</td>\n",
       "      <td>1.19</td>\n",
       "      <td>1.19</td>\n",
       "      <td>1.19</td>\n",
       "      <td>1.19</td>\n",
       "    </tr>\n",
       "    <tr>\n",
       "      <th>...</th>\n",
       "      <th>...</th>\n",
       "      <td>...</td>\n",
       "      <td>...</td>\n",
       "      <td>...</td>\n",
       "      <td>...</td>\n",
       "      <td>...</td>\n",
       "      <td>...</td>\n",
       "      <td>...</td>\n",
       "      <td>...</td>\n",
       "    </tr>\n",
       "    <tr>\n",
       "      <th rowspan=\"5\" valign=\"top\">1901200.0</th>\n",
       "      <th>236.21</th>\n",
       "      <td>10.0</td>\n",
       "      <td>236.21</td>\n",
       "      <td>2.995911e-14</td>\n",
       "      <td>236.21</td>\n",
       "      <td>236.21</td>\n",
       "      <td>236.21</td>\n",
       "      <td>236.21</td>\n",
       "      <td>236.21</td>\n",
       "    </tr>\n",
       "    <tr>\n",
       "      <th>245.00</th>\n",
       "      <td>3.0</td>\n",
       "      <td>245.00</td>\n",
       "      <td>0.000000e+00</td>\n",
       "      <td>245.00</td>\n",
       "      <td>245.00</td>\n",
       "      <td>245.00</td>\n",
       "      <td>245.00</td>\n",
       "      <td>245.00</td>\n",
       "    </tr>\n",
       "    <tr>\n",
       "      <th>498.64</th>\n",
       "      <td>2.0</td>\n",
       "      <td>498.64</td>\n",
       "      <td>0.000000e+00</td>\n",
       "      <td>498.64</td>\n",
       "      <td>498.64</td>\n",
       "      <td>498.64</td>\n",
       "      <td>498.64</td>\n",
       "      <td>498.64</td>\n",
       "    </tr>\n",
       "    <tr>\n",
       "      <th>1133.33</th>\n",
       "      <td>1.0</td>\n",
       "      <td>1133.33</td>\n",
       "      <td>NaN</td>\n",
       "      <td>1133.33</td>\n",
       "      <td>1133.33</td>\n",
       "      <td>1133.33</td>\n",
       "      <td>1133.33</td>\n",
       "      <td>1133.33</td>\n",
       "    </tr>\n",
       "    <tr>\n",
       "      <th>1449.26</th>\n",
       "      <td>6.0</td>\n",
       "      <td>1449.26</td>\n",
       "      <td>0.000000e+00</td>\n",
       "      <td>1449.26</td>\n",
       "      <td>1449.26</td>\n",
       "      <td>1449.26</td>\n",
       "      <td>1449.26</td>\n",
       "      <td>1449.26</td>\n",
       "    </tr>\n",
       "  </tbody>\n",
       "</table>\n",
       "<p>8847 rows × 8 columns</p>\n",
       "</div>"
      ],
      "text/plain": [
       "                              count     mean           std      min      25%  \\\n",
       "Category  State Bottle Cost                                                    \n",
       "1011100.0 0.94                  1.0     0.94           NaN     0.94     0.94   \n",
       "          1.05                284.0     1.05  5.560914e-15     1.05     1.05   \n",
       "          1.16               1192.0     1.16  1.355041e-14     1.16     1.16   \n",
       "          1.17                988.0     1.17  7.553340e-15     1.17     1.17   \n",
       "          1.19                114.0     1.19  1.561175e-15     1.19     1.19   \n",
       "...                             ...      ...           ...      ...      ...   \n",
       "1901200.0 236.21               10.0   236.21  2.995911e-14   236.21   236.21   \n",
       "          245.00                3.0   245.00  0.000000e+00   245.00   245.00   \n",
       "          498.64                2.0   498.64  0.000000e+00   498.64   498.64   \n",
       "          1133.33               1.0  1133.33           NaN  1133.33  1133.33   \n",
       "          1449.26               6.0  1449.26  0.000000e+00  1449.26  1449.26   \n",
       "\n",
       "                                 50%      75%      max  \n",
       "Category  State Bottle Cost                             \n",
       "1011100.0 0.94                  0.94     0.94     0.94  \n",
       "          1.05                  1.05     1.05     1.05  \n",
       "          1.16                  1.16     1.16     1.16  \n",
       "          1.17                  1.17     1.17     1.17  \n",
       "          1.19                  1.19     1.19     1.19  \n",
       "...                              ...      ...      ...  \n",
       "1901200.0 236.21              236.21   236.21   236.21  \n",
       "          245.00              245.00   245.00   245.00  \n",
       "          498.64              498.64   498.64   498.64  \n",
       "          1133.33            1133.33  1133.33  1133.33  \n",
       "          1449.26            1449.26  1449.26  1449.26  \n",
       "\n",
       "[8847 rows x 8 columns]"
      ]
     },
     "execution_count": 44,
     "metadata": {},
     "output_type": "execute_result"
    }
   ],
   "source": [
    "\n",
    "data_filtered.groupby([\"Category\",\"State Bottle Cost\"])[\"State Bottle Cost\"].describe()"
   ]
  },
  {
   "cell_type": "code",
   "execution_count": 41,
   "metadata": {
    "scrolled": true
   },
   "outputs": [
    {
     "data": {
      "text/plain": [
       "260.0    1985793\n",
       "434.0    1178024\n",
       "65.0     1128649\n",
       "370.0     729687\n",
       "115.0     640795\n",
       "          ...   \n",
       "462.0          1\n",
       "510.0          1\n",
       "119.0          1\n",
       "431.0          1\n",
       "436.0          1\n",
       "Name: Vendor Number, Length: 262, dtype: int64"
      ]
     },
     "execution_count": 41,
     "metadata": {},
     "output_type": "execute_result"
    }
   ],
   "source": [
    "data_filtered[\"Vendor Number\"].value_counts()"
   ]
  },
  {
   "cell_type": "code",
   "execution_count": 42,
   "metadata": {},
   "outputs": [
    {
     "data": {
      "text/plain": [
       "Diageo Americas                           1541317\n",
       "Jim Beam Brands                           1128649\n",
       "Luxco-St Louis                             950504\n",
       "Pernod Ricard USA/Austin Nichols           572913\n",
       "Constellation Wine Company, Inc.           492903\n",
       "                                           ...   \n",
       "Broadslab Distillery                            1\n",
       "Belmont Farms Of Va., Inc                       1\n",
       "10th Mountain Whiskey & Spirit Company          1\n",
       "Maverick Spirit LLC                             1\n",
       "3 BADGE CORPORATION                             1\n",
       "Name: Vendor Name, Length: 380, dtype: int64"
      ]
     },
     "execution_count": 42,
     "metadata": {},
     "output_type": "execute_result"
    }
   ],
   "source": [
    "data_filtered[\"Vendor Name\"].value_counts()"
   ]
  },
  {
   "cell_type": "code",
   "execution_count": 52,
   "metadata": {},
   "outputs": [
    {
     "data": {
      "text/plain": [
       "1031080    1155631\n",
       "1012100    1113257\n",
       "1011200     644458\n",
       "1031200     592038\n",
       "1011100     509810\n",
       "            ...   \n",
       "1082390         16\n",
       "1032230         14\n",
       "1700000         11\n",
       "1041000          1\n",
       "1082300          1\n",
       "Name: Category, Length: 104, dtype: int64"
      ]
     },
     "execution_count": 52,
     "metadata": {},
     "output_type": "execute_result"
    }
   ],
   "source": [
    "data_filtered.Category.value_counts()"
   ]
  },
  {
   "cell_type": "code",
   "execution_count": 40,
   "metadata": {
    "scrolled": true
   },
   "outputs": [
    {
     "data": {
      "text/plain": [
       "Invoice/Item Number              object\n",
       "Date                     datetime64[ns]\n",
       "Store Number                   category\n",
       "Store Name                       object\n",
       "Address                          object\n",
       "City                           category\n",
       "Zip Code                         object\n",
       "Store Location                   object\n",
       "County Number                  category\n",
       "County                           object\n",
       "Category                        float64\n",
       "Category Name                    object\n",
       "Vendor Number                   float64\n",
       "Vendor Name                      object\n",
       "Item Number                       int64\n",
       "Item Description                 object\n",
       "Pack                              int64\n",
       "Bottle Volume (ml)                int64\n",
       "State Bottle Cost               float64\n",
       "State Bottle Retail             float64\n",
       "Bottles Sold                      int64\n",
       "Sale (Dollars)                  float64\n",
       "Volume Sold (Liters)            float64\n",
       "Volume Sold (Gallons)           float64\n",
       "year                              int64\n",
       "month                             int64\n",
       "day                               int64\n",
       "latitude                        float64\n",
       "longitude                       float64\n",
       "week_of_day                    category\n",
       "Profit                          float64\n",
       "dtype: object"
      ]
     },
     "execution_count": 40,
     "metadata": {},
     "output_type": "execute_result"
    }
   ],
   "source": [
    "# y = Volume Sold\n",
    "# candidate attributes \n",
    "# Store Number(cat); City (cat); County Number (cat); Category(cat); Item Number(cat); Bottle Volume(num);\n",
    "# State Bottle Cost(num); State Bottle Retail(num); pack(int); week_of_day (cat); month(cat);  year(cat )\n",
    "\n",
    "data_filtered.dtypes"
   ]
  },
  {
   "cell_type": "markdown",
   "metadata": {},
   "source": [
    "###  scatter plot profit vs volume "
   ]
  },
  {
   "cell_type": "code",
   "execution_count": null,
   "metadata": {},
   "outputs": [],
   "source": []
  },
  {
   "cell_type": "markdown",
   "metadata": {},
   "source": [
    "### scatter plot sale vs volume "
   ]
  },
  {
   "cell_type": "code",
   "execution_count": null,
   "metadata": {},
   "outputs": [],
   "source": []
  },
  {
   "cell_type": "markdown",
   "metadata": {},
   "source": [
    "### boxplot of volume vs weekday "
   ]
  },
  {
   "cell_type": "code",
   "execution_count": 51,
   "metadata": {
    "scrolled": true
   },
   "outputs": [
    {
     "data": {
      "text/plain": [
       "3    2866501\n",
       "1    2843824\n",
       "2    2817689\n",
       "4    2377952\n",
       "5     562546\n",
       "6      91146\n",
       "Name: week_of_day, dtype: int64"
      ]
     },
     "execution_count": 51,
     "metadata": {},
     "output_type": "execute_result"
    }
   ],
   "source": [
    "data_filtered.week_of_day.value_counts()"
   ]
  },
  {
   "cell_type": "code",
   "execution_count": 35,
   "metadata": {},
   "outputs": [
    {
     "data": {
      "image/png": "[encoded data removed]",
      "text/plain": [
       "<Figure size 720x432 with 1 Axes>"
      ]
     },
     "metadata": {
      "needs_background": "light"
     },
     "output_type": "display_data"
    }
   ],
   "source": [
    "plt.figure(figsize=(10,6))\n",
    "sns.boxplot(x = 'week_of_day', y = 'Volume Sold (Liters)', data = data_filtered[[\"week_of_day\",\"Volume Sold (Liters)\"]])\n",
    "plt.ylabel('Volume Sold (Liters)', fontsize = 13)\n",
    "plt.title(\"Boxplot of attributes\", fontsize =15)\n",
    "#plt.savefig(\"Boxplot of attributes.pdf\")\n",
    "plt.show()"
   ]
  },
  {
   "cell_type": "code",
   "execution_count": null,
   "metadata": {},
   "outputs": [],
   "source": []
  },
  {
   "cell_type": "code",
   "execution_count": null,
   "metadata": {},
   "outputs": [],
   "source": []
  },
  {
   "cell_type": "code",
   "execution_count": null,
   "metadata": {},
   "outputs": [],
   "source": []
  },
  {
   "cell_type": "code",
   "execution_count": 73,
   "metadata": {},
   "outputs": [],
   "source": [
    "sf = gpd.read_file(\"county.shp\")\n",
    "sf['geometry'] = sf['geometry'].to_crs(\"+proj=longlat +ellps=WGS84 +datum=WGS84 +no_defs\")\n",
    "gdf_PUL = gpd.GeoDataFrame(pd.merge(data_filtered, sf, left_on = 'County', \n",
    "                                right_on = 'COUNTY')).drop('County', axis = 1)\n",
    "\n",
    "geoJSON = gdf_PUL[['geometry','COUNTY']].drop_duplicates('COUNTY').to_json()\n",
    "pd.set_option('display.max_rows', 103)\n",
    "data_filtered.County.value_counts()\n",
    "\n",
    "# Analyze total alcohol sales in different counties (chorolength)\n",
    "volume_sold_df = data_filtered.loc[:, [\"County\", \"Volume Sold (Liters)\"]].groupby(\"County\").sum().reset_index() # 103 counties\n",
    "\n",
    "profit_df = data_filtered.loc[:, [\"County\", \"Profit\"]].groupby(\"County\").sum().reset_index()\n",
    "\n",
    "\n",
    "td_map = folium.Map(location = [41.8780, -93.0977], \n",
    "                    zoom_start= 10,tiles = \"cartodbpositron\")\n",
    "\n",
    "cho_map = folium.Choropleth(\n",
    "    geo_data=geoJSON,\n",
    "    data=volume_sold_df[['County','Volume Sold (Liters)']],\n",
    "    name='choropleth',\n",
    "    fill_color='YlGn',\n",
    "    fill_opacity=0.7,\n",
    "    key_on = 'feature.properties.COUNTY',\n",
    "    line_opacity=0.2,\n",
    "    legend_name='Volume Sold (Liters)',\n",
    "    highlight=True,\n",
    "    line_color='green',\n",
    "    columns = ['County','Volume Sold (Liters)'], reset = True,\n",
    ").add_to(td_map)\n",
    "\n",
    "cho_map.geojson.add_child(folium.features.GeoJsonTooltip(['COUNTY'], labels = False))\n",
    "folium.LayerControl().add_to(td_map)\n",
    "td_map.save('foliumChoropleth_map_volume_sold.html')\n",
    "td_map"
   ]
  },
  {
   "cell_type": "code",
   "execution_count": null,
   "metadata": {},
   "outputs": [],
   "source": [
    "td_map = folium.Map(location = [41.8780, -93.0977], \n",
    "                    zoom_start= 10,tiles = \"cartodbpositron\")\n",
    "\n",
    "cho_map = folium.Choropleth(\n",
    "    geo_data=geoJSON,\n",
    "    data=profit_df[['County','Profit']],\n",
    "    name='choropleth',\n",
    "    fill_color='YlGn',\n",
    "    fill_opacity=0.7,\n",
    "    key_on = 'feature.properties.COUNTY',\n",
    "    line_opacity=0.2,\n",
    "    legend_name='Profit',\n",
    "    highlight=True,\n",
    "    line_color='green',\n",
    "    columns = ['County','Profit'], reset = True,\n",
    ").add_to(td_map)\n",
    "\n",
    "cho_map.geojson.add_child(folium.features.GeoJsonTooltip(['COUNTY'], labels = False))\n",
    "folium.LayerControl().add_to(td_map)\n",
    "#td_map.save('foliumChoroplethMap_trip_distance.html')\n",
    "td_map"
   ]
  },
  {
   "cell_type": "code",
   "execution_count": 20,
   "metadata": {},
   "outputs": [
    {
     "data": {
      "text/plain": [
       "1031080.0    1255745\n",
       "1012100.0    1199556\n",
       "1011200.0     698830\n",
       "1031200.0     641448\n",
       "1011100.0     551093\n",
       "              ...   \n",
       "1082390.0         16\n",
       "1032230.0         14\n",
       "1700000.0         12\n",
       "1041000.0          1\n",
       "1082300.0          1\n",
       "Name: Category, Length: 104, dtype: int64"
      ]
     },
     "execution_count": 20,
     "metadata": {},
     "output_type": "execute_result"
    }
   ],
   "source": [
    "data_all.Category.value_counts()"
   ]
  },
  {
   "cell_type": "code",
   "execution_count": 17,
   "metadata": {
    "scrolled": true
   },
   "outputs": [
    {
     "data": {
      "text/html": [
       "<div>\n",
       "<style scoped>\n",
       "    .dataframe tbody tr th:only-of-type {\n",
       "        vertical-align: middle;\n",
       "    }\n",
       "\n",
       "    .dataframe tbody tr th {\n",
       "        vertical-align: top;\n",
       "    }\n",
       "\n",
       "    .dataframe thead th {\n",
       "        text-align: right;\n",
       "    }\n",
       "</style>\n",
       "<table border=\"1\" class=\"dataframe\">\n",
       "  <thead>\n",
       "    <tr style=\"text-align: right;\">\n",
       "      <th></th>\n",
       "      <th>Category</th>\n",
       "      <th>County</th>\n",
       "      <th>Volume Sold (Liters)</th>\n",
       "    </tr>\n",
       "  </thead>\n",
       "  <tbody>\n",
       "    <tr>\n",
       "      <th>0</th>\n",
       "      <td>1012100.0</td>\n",
       "      <td>Adair</td>\n",
       "      <td>36327.43</td>\n",
       "    </tr>\n",
       "    <tr>\n",
       "      <th>1</th>\n",
       "      <td>1012100.0</td>\n",
       "      <td>Adams</td>\n",
       "      <td>8752.62</td>\n",
       "    </tr>\n",
       "    <tr>\n",
       "      <th>2</th>\n",
       "      <td>1012100.0</td>\n",
       "      <td>Allamakee</td>\n",
       "      <td>37179.45</td>\n",
       "    </tr>\n",
       "    <tr>\n",
       "      <th>3</th>\n",
       "      <td>1012100.0</td>\n",
       "      <td>Appanoose</td>\n",
       "      <td>48045.19</td>\n",
       "    </tr>\n",
       "    <tr>\n",
       "      <th>4</th>\n",
       "      <td>1012100.0</td>\n",
       "      <td>Audubon</td>\n",
       "      <td>18219.32</td>\n",
       "    </tr>\n",
       "    <tr>\n",
       "      <th>...</th>\n",
       "      <td>...</td>\n",
       "      <td>...</td>\n",
       "      <td>...</td>\n",
       "    </tr>\n",
       "    <tr>\n",
       "      <th>296</th>\n",
       "      <td>1062310.0</td>\n",
       "      <td>Winnebago</td>\n",
       "      <td>25873.73</td>\n",
       "    </tr>\n",
       "    <tr>\n",
       "      <th>297</th>\n",
       "      <td>1062310.0</td>\n",
       "      <td>Winneshiek</td>\n",
       "      <td>36481.77</td>\n",
       "    </tr>\n",
       "    <tr>\n",
       "      <th>298</th>\n",
       "      <td>1062310.0</td>\n",
       "      <td>Woodbury</td>\n",
       "      <td>229256.33</td>\n",
       "    </tr>\n",
       "    <tr>\n",
       "      <th>299</th>\n",
       "      <td>1062310.0</td>\n",
       "      <td>Worth</td>\n",
       "      <td>8583.65</td>\n",
       "    </tr>\n",
       "    <tr>\n",
       "      <th>300</th>\n",
       "      <td>1062310.0</td>\n",
       "      <td>Wright</td>\n",
       "      <td>17325.74</td>\n",
       "    </tr>\n",
       "  </tbody>\n",
       "</table>\n",
       "<p>301 rows × 3 columns</p>\n",
       "</div>"
      ],
      "text/plain": [
       "      Category      County  Volume Sold (Liters)\n",
       "0    1012100.0       Adair              36327.43\n",
       "1    1012100.0       Adams               8752.62\n",
       "2    1012100.0   Allamakee              37179.45\n",
       "3    1012100.0   Appanoose              48045.19\n",
       "4    1012100.0     Audubon              18219.32\n",
       "..         ...         ...                   ...\n",
       "296  1062310.0   Winnebago              25873.73\n",
       "297  1062310.0  Winneshiek              36481.77\n",
       "298  1062310.0    Woodbury             229256.33\n",
       "299  1062310.0       Worth               8583.65\n",
       "300  1062310.0      Wright              17325.74\n",
       "\n",
       "[301 rows x 3 columns]"
      ]
     },
     "execution_count": 17,
     "metadata": {},
     "output_type": "execute_result"
    }
   ],
   "source": [
    "data_filtered.loc[:, [\"Category\", \n",
    "                      \"County\", \n",
    "                      \"Volume Sold (Liters)\"]].groupby([\"Category\", \"County\"]).sum().reset_index()"
   ]
  },
  {
   "cell_type": "markdown",
   "metadata": {},
   "source": [
    "### Models "
   ]
  },
  {
   "cell_type": "code",
   "execution_count": null,
   "metadata": {},
   "outputs": [],
   "source": [
    "# linear regression "
   ]
  },
  {
   "cell_type": "code",
   "execution_count": null,
   "metadata": {},
   "outputs": [],
   "source": [
    "# train-test splitting \n",
    "from sklearn.linear_model import Lasso\n",
    "from sklearn.model_selection import train_test_split \n",
    "X = df_final[[~\"volume_sold\"]]\n",
    "y = df_final.volume_sold\n",
    "X_train, X_test, y_train, y_test = train_test_split(X, y, test_size = 0.1, random_state = 66)\n",
    "#"
   ]
  },
  {
   "cell_type": "code",
   "execution_count": 20,
   "metadata": {
    "scrolled": false
   },
   "outputs": [
    {
     "data": {
      "text/plain": [
       "Index(['Invoice/Item Number', 'Date', 'Store Number', 'Store Name', 'Address',\n",
       "       'City', 'Zip Code', 'Store Location', 'County Number', 'County',\n",
       "       'Category', 'Category Name', 'Vendor Number', 'Vendor Name',\n",
       "       'Item Number', 'Item Description', 'Pack', 'Bottle Volume (ml)',\n",
       "       'State Bottle Cost', 'State Bottle Retail', 'Bottles Sold',\n",
       "       'Sale (Dollars)', 'Volume Sold (Liters)', 'Volume Sold (Gallons)',\n",
       "       'year', 'month', 'day', 'latitude', 'longitude', 'Profit'],\n",
       "      dtype='object')"
      ]
     },
     "execution_count": 20,
     "metadata": {},
     "output_type": "execute_result"
    }
   ],
   "source": [
    "data_filtered.columns"
   ]
  },
  {
   "cell_type": "code",
   "execution_count": null,
   "metadata": {},
   "outputs": [],
   "source": [
    "# candidate features \n",
    "# "
   ]
  },
  {
   "cell_type": "code",
   "execution_count": null,
   "metadata": {},
   "outputs": [],
   "source": [
    "from statsmodels.formula.api import *\n",
    "model_full = ols(formula = \"log_volume_sold~year+month+day+week_of_day+pack+city+category+county_number+store_count+item_number+bottle_volume+log_cost_price+log_store_count+log_retail_price\", data = subs).fit()\n",
    "model_full.summary()"
   ]
  },
  {
   "cell_type": "code",
   "execution_count": null,
   "metadata": {},
   "outputs": [],
   "source": []
  }
 ],
 "metadata": {
  "kernelspec": {
   "display_name": "Python 3",
   "language": "python",
   "name": "python3"
  },
  "language_info": {
   "codemirror_mode": {
    "name": "ipython",
    "version": 3
   },
   "file_extension": ".py",
   "mimetype": "text/x-python",
   "name": "python",
   "nbconvert_exporter": "python",
   "pygments_lexer": "ipython3",
   "version": "3.6.9"
  }
 },
 "nbformat": 4,
 "nbformat_minor": 4
}
