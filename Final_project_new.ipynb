{
 "cells": [
  {
   "cell_type": "code",
   "execution_count": 1,
   "metadata": {},
   "outputs": [
    {
     "name": "stderr",
     "output_type": "stream",
     "text": [
      "/home/student.unimelb.edu.au/xinyij4/.local/lib/python3.6/site-packages/geopandas/_compat.py:88: UserWarning: The Shapely GEOS version (3.8.0-CAPI-1.13.1 ) is incompatible with the GEOS version PyGEOS was compiled with (3.8.1-CAPI-1.13.3). Conversions between both will be slow.\n",
      "  shapely_geos_version, geos_capi_version_string\n"
     ]
    }
   ],
   "source": [
    "import pandas as pd\n",
    "import numpy as np\n",
    "import geopandas as gpd\n",
    "import seaborn as sns \n",
    "import geopandas as gpd\n",
    "import folium\n",
    "import warnings\n",
    "warnings.filterwarnings(\"ignore\")\n",
    "import re"
   ]
  },
  {
   "cell_type": "code",
   "execution_count": 2,
   "metadata": {},
   "outputs": [
    {
     "data": {
      "text/html": [
       "<div>\n",
       "<style scoped>\n",
       "    .dataframe tbody tr th:only-of-type {\n",
       "        vertical-align: middle;\n",
       "    }\n",
       "\n",
       "    .dataframe tbody tr th {\n",
       "        vertical-align: top;\n",
       "    }\n",
       "\n",
       "    .dataframe thead th {\n",
       "        text-align: right;\n",
       "    }\n",
       "</style>\n",
       "<table border=\"1\" class=\"dataframe\">\n",
       "  <thead>\n",
       "    <tr style=\"text-align: right;\">\n",
       "      <th></th>\n",
       "      <th>Invoice/Item Number</th>\n",
       "      <th>Date</th>\n",
       "      <th>Store Number</th>\n",
       "      <th>Store Name</th>\n",
       "      <th>Address</th>\n",
       "      <th>City</th>\n",
       "      <th>Zip Code</th>\n",
       "      <th>Store Location</th>\n",
       "      <th>County Number</th>\n",
       "      <th>County</th>\n",
       "      <th>...</th>\n",
       "      <th>Item Number</th>\n",
       "      <th>Item Description</th>\n",
       "      <th>Pack</th>\n",
       "      <th>Bottle Volume (ml)</th>\n",
       "      <th>State Bottle Cost</th>\n",
       "      <th>State Bottle Retail</th>\n",
       "      <th>Bottles Sold</th>\n",
       "      <th>Sale (Dollars)</th>\n",
       "      <th>Volume Sold (Liters)</th>\n",
       "      <th>Volume Sold (Gallons)</th>\n",
       "    </tr>\n",
       "  </thead>\n",
       "  <tbody>\n",
       "    <tr>\n",
       "      <th>0</th>\n",
       "      <td>S29198800001</td>\n",
       "      <td>11/20/2015</td>\n",
       "      <td>2191</td>\n",
       "      <td>Keokuk Spirits</td>\n",
       "      <td>1013 MAIN</td>\n",
       "      <td>KEOKUK</td>\n",
       "      <td>52632</td>\n",
       "      <td>1013 MAIN\\nKEOKUK 52632\\n(40.39978, -91.387531)</td>\n",
       "      <td>56.0</td>\n",
       "      <td>Lee</td>\n",
       "      <td>...</td>\n",
       "      <td>297</td>\n",
       "      <td>Templeton Rye w/Flask</td>\n",
       "      <td>6</td>\n",
       "      <td>750</td>\n",
       "      <td>$18.09</td>\n",
       "      <td>$27.14</td>\n",
       "      <td>6</td>\n",
       "      <td>$162.84</td>\n",
       "      <td>4.50</td>\n",
       "      <td>1.19</td>\n",
       "    </tr>\n",
       "    <tr>\n",
       "      <th>1</th>\n",
       "      <td>S29195400002</td>\n",
       "      <td>11/21/2015</td>\n",
       "      <td>2205</td>\n",
       "      <td>Ding's Honk And Holler</td>\n",
       "      <td>900 E WASHINGTON</td>\n",
       "      <td>CLARINDA</td>\n",
       "      <td>51632</td>\n",
       "      <td>900 E WASHINGTON\\nCLARINDA 51632\\n(40.739238, ...</td>\n",
       "      <td>73.0</td>\n",
       "      <td>Page</td>\n",
       "      <td>...</td>\n",
       "      <td>297</td>\n",
       "      <td>Templeton Rye w/Flask</td>\n",
       "      <td>6</td>\n",
       "      <td>750</td>\n",
       "      <td>$18.09</td>\n",
       "      <td>$27.14</td>\n",
       "      <td>12</td>\n",
       "      <td>$325.68</td>\n",
       "      <td>9.00</td>\n",
       "      <td>2.38</td>\n",
       "    </tr>\n",
       "    <tr>\n",
       "      <th>2</th>\n",
       "      <td>S29050300001</td>\n",
       "      <td>11/16/2015</td>\n",
       "      <td>3549</td>\n",
       "      <td>Quicker Liquor Store</td>\n",
       "      <td>1414 48TH ST</td>\n",
       "      <td>FORT MADISON</td>\n",
       "      <td>52627</td>\n",
       "      <td>1414 48TH ST\\nFORT MADISON 52627\\n(40.624226, ...</td>\n",
       "      <td>56.0</td>\n",
       "      <td>Lee</td>\n",
       "      <td>...</td>\n",
       "      <td>249</td>\n",
       "      <td>Disaronno Amaretto Cavalli Mignon 3-50ml Pack</td>\n",
       "      <td>20</td>\n",
       "      <td>150</td>\n",
       "      <td>$6.40</td>\n",
       "      <td>$9.60</td>\n",
       "      <td>2</td>\n",
       "      <td>$19.20</td>\n",
       "      <td>0.30</td>\n",
       "      <td>0.08</td>\n",
       "    </tr>\n",
       "    <tr>\n",
       "      <th>3</th>\n",
       "      <td>S28867700001</td>\n",
       "      <td>11/04/2015</td>\n",
       "      <td>2513</td>\n",
       "      <td>Hy-Vee Food Store #2 / Iowa City</td>\n",
       "      <td>812  S 1ST AVE</td>\n",
       "      <td>IOWA CITY</td>\n",
       "      <td>52240</td>\n",
       "      <td>812 S 1ST AVE\\nIOWA CITY 52240\\n</td>\n",
       "      <td>52.0</td>\n",
       "      <td>Johnson</td>\n",
       "      <td>...</td>\n",
       "      <td>237</td>\n",
       "      <td>Knob Creek w/ Crystal Decanter</td>\n",
       "      <td>3</td>\n",
       "      <td>1750</td>\n",
       "      <td>$35.55</td>\n",
       "      <td>$53.34</td>\n",
       "      <td>3</td>\n",
       "      <td>$160.02</td>\n",
       "      <td>5.25</td>\n",
       "      <td>1.39</td>\n",
       "    </tr>\n",
       "    <tr>\n",
       "      <th>4</th>\n",
       "      <td>S29050800001</td>\n",
       "      <td>11/17/2015</td>\n",
       "      <td>3942</td>\n",
       "      <td>Twin Town Liquor</td>\n",
       "      <td>104 HIGHWAY 30 WEST</td>\n",
       "      <td>TOLEDO</td>\n",
       "      <td>52342</td>\n",
       "      <td>104 HIGHWAY 30 WEST\\nTOLEDO 52342\\n(41.985887,...</td>\n",
       "      <td>86.0</td>\n",
       "      <td>Tama</td>\n",
       "      <td>...</td>\n",
       "      <td>249</td>\n",
       "      <td>Disaronno Amaretto Cavalli Mignon 3-50ml Pack</td>\n",
       "      <td>20</td>\n",
       "      <td>150</td>\n",
       "      <td>$6.40</td>\n",
       "      <td>$9.60</td>\n",
       "      <td>2</td>\n",
       "      <td>$19.20</td>\n",
       "      <td>0.30</td>\n",
       "      <td>0.08</td>\n",
       "    </tr>\n",
       "  </tbody>\n",
       "</table>\n",
       "<p>5 rows × 24 columns</p>\n",
       "</div>"
      ],
      "text/plain": [
       "  Invoice/Item Number        Date  Store Number  \\\n",
       "0        S29198800001  11/20/2015          2191   \n",
       "1        S29195400002  11/21/2015          2205   \n",
       "2        S29050300001  11/16/2015          3549   \n",
       "3        S28867700001  11/04/2015          2513   \n",
       "4        S29050800001  11/17/2015          3942   \n",
       "\n",
       "                         Store Name              Address          City  \\\n",
       "0                    Keokuk Spirits            1013 MAIN        KEOKUK   \n",
       "1            Ding's Honk And Holler     900 E WASHINGTON      CLARINDA   \n",
       "2              Quicker Liquor Store         1414 48TH ST  FORT MADISON   \n",
       "3  Hy-Vee Food Store #2 / Iowa City       812  S 1ST AVE     IOWA CITY   \n",
       "4                  Twin Town Liquor  104 HIGHWAY 30 WEST        TOLEDO   \n",
       "\n",
       "  Zip Code                                     Store Location  County Number  \\\n",
       "0    52632    1013 MAIN\\nKEOKUK 52632\\n(40.39978, -91.387531)           56.0   \n",
       "1    51632  900 E WASHINGTON\\nCLARINDA 51632\\n(40.739238, ...           73.0   \n",
       "2    52627  1414 48TH ST\\nFORT MADISON 52627\\n(40.624226, ...           56.0   \n",
       "3    52240                   812 S 1ST AVE\\nIOWA CITY 52240\\n           52.0   \n",
       "4    52342  104 HIGHWAY 30 WEST\\nTOLEDO 52342\\n(41.985887,...           86.0   \n",
       "\n",
       "    County  ...  Item Number                               Item Description  \\\n",
       "0      Lee  ...          297                          Templeton Rye w/Flask   \n",
       "1     Page  ...          297                          Templeton Rye w/Flask   \n",
       "2      Lee  ...          249  Disaronno Amaretto Cavalli Mignon 3-50ml Pack   \n",
       "3  Johnson  ...          237                 Knob Creek w/ Crystal Decanter   \n",
       "4     Tama  ...          249  Disaronno Amaretto Cavalli Mignon 3-50ml Pack   \n",
       "\n",
       "   Pack Bottle Volume (ml)  State Bottle Cost State Bottle Retail  \\\n",
       "0     6                750             $18.09              $27.14   \n",
       "1     6                750             $18.09              $27.14   \n",
       "2    20                150              $6.40               $9.60   \n",
       "3     3               1750             $35.55              $53.34   \n",
       "4    20                150              $6.40               $9.60   \n",
       "\n",
       "   Bottles Sold  Sale (Dollars) Volume Sold (Liters) Volume Sold (Gallons)  \n",
       "0             6         $162.84                 4.50                  1.19  \n",
       "1            12         $325.68                 9.00                  2.38  \n",
       "2             2          $19.20                 0.30                  0.08  \n",
       "3             3         $160.02                 5.25                  1.39  \n",
       "4             2          $19.20                 0.30                  0.08  \n",
       "\n",
       "[5 rows x 24 columns]"
      ]
     },
     "execution_count": 2,
     "metadata": {},
     "output_type": "execute_result"
    }
   ],
   "source": [
    "data_all = pd.read_csv(\"Iowa_Liquor_Sales.csv\")\n",
    "data_all.head(5)"
   ]
  },
  {
   "cell_type": "code",
   "execution_count": 3,
   "metadata": {
    "scrolled": true
   },
   "outputs": [
    {
     "name": "stdout",
     "output_type": "stream",
     "text": [
      "The entire dataset dimension:  (12591077, 24)\n",
      "Attributes: Index(['Invoice/Item Number', 'Date', 'Store Number', 'Store Name', 'Address',\n",
      "       'City', 'Zip Code', 'Store Location', 'County Number', 'County',\n",
      "       'Category', 'Category Name', 'Vendor Number', 'Vendor Name',\n",
      "       'Item Number', 'Item Description', 'Pack', 'Bottle Volume (ml)',\n",
      "       'State Bottle Cost', 'State Bottle Retail', 'Bottles Sold',\n",
      "       'Sale (Dollars)', 'Volume Sold (Liters)', 'Volume Sold (Gallons)'],\n",
      "      dtype='object')\n"
     ]
    }
   ],
   "source": [
    "print(\"The entire dataset dimension: \",data_all.shape) # (12591077, 24)\n",
    "print(\"Attributes:\",data_all.columns) # (12591077, 24)"
   ]
  },
  {
   "cell_type": "code",
   "execution_count": 4,
   "metadata": {},
   "outputs": [
    {
     "name": "stdout",
     "output_type": "stream",
     "text": [
      "Missing values:\n",
      " Invoice/Item Number          0\n",
      "Date                         0\n",
      "Store Number                 0\n",
      "Store Name                   0\n",
      "Address                   2376\n",
      "City                      2375\n",
      "Zip Code                  2420\n",
      "Store Location            2375\n",
      "County Number            79178\n",
      "County                   79178\n",
      "Category                  8020\n",
      "Category Name            16086\n",
      "Vendor Number                3\n",
      "Vendor Name                  1\n",
      "Item Number                  0\n",
      "Item Description             0\n",
      "Pack                         0\n",
      "Bottle Volume (ml)           0\n",
      "State Bottle Cost           10\n",
      "State Bottle Retail         10\n",
      "Bottles Sold                 0\n",
      "Sale (Dollars)              10\n",
      "Volume Sold (Liters)         0\n",
      "Volume Sold (Gallons)        0\n",
      "dtype: int64\n"
     ]
    }
   ],
   "source": [
    "# check missing values \n",
    "print(\"Missing values:\\n\",data_all.isnull().sum()) "
   ]
  },
  {
   "cell_type": "code",
   "execution_count": 5,
   "metadata": {},
   "outputs": [],
   "source": [
    "# drop records with missing values \n",
    "data_all = data_all.dropna()"
   ]
  },
  {
   "cell_type": "code",
   "execution_count": 6,
   "metadata": {
    "scrolled": true
   },
   "outputs": [
    {
     "name": "stdout",
     "output_type": "stream",
     "text": [
      "##################\n",
      " City\n",
      "ACKLEY       2722\n",
      "ADAIR        1567\n",
      "ADEL        10878\n",
      "AFTON         994\n",
      "AKRON        2094\n",
      "            ...  \n",
      "Winthrop      994\n",
      "Woodbine     2770\n",
      "Woodward      605\n",
      "ZWINGLE      1260\n",
      "Zwingle       455\n",
      "Length: 790, dtype: int64\n",
      "##################\n",
      " County\n",
      "ADAIR           2503\n",
      "ADAMS           2066\n",
      "ALLAMAKEE      11260\n",
      "APPANOOSE      10076\n",
      "AUDUBON         2143\n",
      "               ...  \n",
      "Winnebago      33984\n",
      "Winneshiek     55567\n",
      "Woodbury      287930\n",
      "Worth          12643\n",
      "Wright         27719\n",
      "Length: 200, dtype: int64\n",
      "##################\n",
      " Item Number\n",
      "101       31\n",
      "102       31\n",
      "104       10\n",
      "107       31\n",
      "108       39\n",
      "          ..\n",
      "996026     3\n",
      "997085     1\n",
      "997086     3\n",
      "997878     3\n",
      "999275     1\n",
      "Length: 7263, dtype: int64\n"
     ]
    }
   ],
   "source": [
    "print(\"##################\\n\",data_all.groupby(\"City\").size()) # 790 cities\n",
    "print(\"##################\\n\",data_all.groupby(\"County\").size()) # 200 cities\n",
    "print(\"##################\\n\",data_all.groupby(\"Item Number\").size())# 7263 brands"
   ]
  },
  {
   "cell_type": "code",
   "execution_count": 7,
   "metadata": {},
   "outputs": [
    {
     "data": {
      "text/plain": [
       "[1031080.0, 1012100.0, 1062310.0]"
      ]
     },
     "execution_count": 7,
     "metadata": {},
     "output_type": "execute_result"
    }
   ],
   "source": [
    "l = data_all.loc[:, [\"Volume Sold (Liters)\", \"Category\"]].groupby(\"Category\").sum()\n",
    "l = l.sort_values(by = \"Volume Sold (Liters)\", ascending = False).reset_index()\n",
    "l.iloc[:3, 0].to_list()"
   ]
  },
  {
   "cell_type": "code",
   "execution_count": 8,
   "metadata": {},
   "outputs": [
    {
     "name": "stdout",
     "output_type": "stream",
     "text": [
      "(2981686, 24)\n"
     ]
    }
   ],
   "source": [
    "top_three_category = l.iloc[:3, 0].to_list()\n",
    "data = data_all.loc[data_all[\"Category\"].isin(top_three_category),:]\n",
    "data.Category.value_counts()\n",
    "print(data.shape)"
   ]
  },
  {
   "cell_type": "markdown",
   "metadata": {},
   "source": [
    "### Pre-processing "
   ]
  },
  {
   "cell_type": "code",
   "execution_count": 9,
   "metadata": {
    "scrolled": true
   },
   "outputs": [
    {
     "name": "stdout",
     "output_type": "stream",
     "text": [
      "Counties with the same county number but conflicting names\n",
      "           County  County Number   Date\n",
      "10     Buena Vist           11.0   2807\n",
      "11    Buena Vista           11.0  25146\n",
      "17     Cerro Gord           17.0   6669\n",
      "18    Cerro Gordo           17.0  65819\n",
      "72        O'Brien           71.0  21350\n",
      "73         Obrien           71.0   3086\n",
      "80     Pottawatta           78.0   8204\n",
      "81  Pottawattamie           78.0  84674\n"
     ]
    }
   ],
   "source": [
    "#pd.set_option('display.max_rows', 10)\n",
    "data[\"County\"] = data[\"County\"].str.title()\n",
    "data[\"City\"] = data[\"City\"].str.title()\n",
    "county_countN_df = data.loc[:,[\"County\",\"County Number\",\"Date\"]].groupby([\"County\",\"County Number\"]).count().reset_index()\n",
    "county_countN_df[\"County Number\"].value_counts()\n",
    "print(\"Counties with the same county number but conflicting names\")\n",
    "print(county_countN_df.loc[county_countN_df[\"County Number\"].isin([71.0, 78.0,17.0, 11.0]),:])\n",
    "\n",
    "data.County = data.County.replace([\"buena vist\",\"cerro gord\",\"obrien\",\"pottawatta\"], \n",
    "                                  [\"buena vista\",\"cerro gordo\",\"o'brien\",\"pottawattamie\"])\n"
   ]
  },
  {
   "cell_type": "code",
   "execution_count": 10,
   "metadata": {
    "scrolled": true
   },
   "outputs": [],
   "source": [
    "# convert data types \n",
    "data[\"Date\"]  = pd.to_datetime(data['Date'],format='%m/%d/%Y')\n",
    "data['year'] = pd.DatetimeIndex(data['Date']).year\n",
    "data['month'] = pd.DatetimeIndex(data['Date']).month\n",
    "data['day'] = pd.DatetimeIndex(data['Date']).day\n",
    "\n",
    "\n",
    "data.loc[:,\"Sale (Dollars)\"] = data.loc[:, \"Sale (Dollars)\"].str[1:]\n",
    "data.loc[:,\"State Bottle Cost\"] = data.loc[:, \"State Bottle Cost\"].str[1:]\n",
    "data.loc[:,\"State Bottle Retail\"] = data.loc[:, \"State Bottle Retail\"].str[1:]\n",
    "data[\"Store Number\"] = data[\"Store Number\"].astype(\"category\")\n",
    "data[\"County Number\"] = data[\"County Number\"].astype(\"int\")\n",
    "data[\"County Number\"] = data[\"County Number\"].astype(\"category\")\n",
    "data[\"County\"] = data[\"County\"].astype(\"category\")\n",
    "data[\"City\"] = data[\"City\"].astype(\"category\")\n",
    "data[\"Sale (Dollars)\"] = data[\"Sale (Dollars)\"].astype(\"float\")\n",
    "data[\"State Bottle Cost\"] = data[\"State Bottle Cost\"].astype(\"float\")\n",
    "data[\"State Bottle Retail\"] = data[\"State Bottle Retail\"].astype(\"float\")"
   ]
  },
  {
   "cell_type": "code",
   "execution_count": 11,
   "metadata": {},
   "outputs": [],
   "source": [
    "# remove potential errors \n",
    "cond1 = data[\"Bottle Volume (ml)\"] == 0\n",
    "cond2 = data[\"State Bottle Cost\"] == 0\n",
    "cond3 = data[\"State Bottle Retail\"] == 0\n",
    "cond4 = data[\"Sale (Dollars)\"] == 0\n",
    "cond5 = data[\"Bottles Sold\"] ==0\n",
    "cond6 = data[\"Volume Sold (Liters)\"] ==0\n",
    "data = data.loc[~(cond1|cond2|cond3|cond4|cond5|cond6),:] # 640 rows removed"
   ]
  },
  {
   "cell_type": "code",
   "execution_count": 13,
   "metadata": {
    "scrolled": true
   },
   "outputs": [],
   "source": [
    "data[\"latitude\"]  = [re.findall(r\"\\((.+?),\",i) for i in data[\"Store Location\"]]\n",
    "data[\"longitude\"]  = [re.findall(r\", (.+?)\\)\",i) for i in data[\"Store Location\"]]\n",
    "# 2981046 (about 600 records with missing coordinates)\n",
    "filtered_coord = [len(data.iloc[i, 28]) != 0 for i in range(data.shape[0])]\n",
    "filtered_coord\n",
    "data_filtered = data.loc[filtered_coord, :]\n",
    "data_filtered.latitude = data_filtered.latitude.map(lambda x:x[0])\n",
    "data_filtered.longitude = data_filtered.longitude.map(lambda x:x[0])\n",
    "data_filtered.latitude = data_filtered.latitude.astype(\"float\")\n",
    "data_filtered.longitude = data_filtered.longitude.astype(\"float\")"
   ]
  },
  {
   "cell_type": "code",
   "execution_count": 14,
   "metadata": {},
   "outputs": [],
   "source": [
    "data_filtered.County = data_filtered.County.str.title()\n",
    "\n",
    "data_filtered[\"Profit\"] = (data_filtered[\"State Bottle Retail\"] - \n",
    "                           data_filtered[\"State Bottle Cost\"])*data_filtered[\"Bottles Sold\"]"
   ]
  },
  {
   "cell_type": "markdown",
   "metadata": {},
   "source": [
    "### Visualisation "
   ]
  },
  {
   "cell_type": "code",
   "execution_count": 73,
   "metadata": {},
   "outputs": [],
   "source": [
    "sf = gpd.read_file(\"county.shp\")\n",
    "sf['geometry'] = sf['geometry'].to_crs(\"+proj=longlat +ellps=WGS84 +datum=WGS84 +no_defs\")\n",
    "gdf_PUL = gpd.GeoDataFrame(pd.merge(data_filtered, sf, left_on = 'County', \n",
    "                                right_on = 'COUNTY')).drop('County', axis = 1)\n",
    "\n",
    "geoJSON = gdf_PUL[['geometry','COUNTY']].drop_duplicates('COUNTY').to_json()\n",
    "pd.set_option('display.max_rows', 103)\n",
    "data_filtered.County.value_counts()\n",
    "\n",
    "# Analyze total alcohol sales in different counties (chorolength)\n",
    "volume_sold_df = data_filtered.loc[:, [\"County\", \"Volume Sold (Liters)\"]].groupby(\"County\").sum().reset_index() # 103 counties\n",
    "\n",
    "profit_df = data_filtered.loc[:, [\"County\", \"Profit\"]].groupby(\"County\").sum().reset_index()\n",
    "\n",
    "\n",
    "td_map = folium.Map(location = [41.8780, -93.0977], \n",
    "                    zoom_start= 10,tiles = \"cartodbpositron\")\n",
    "\n",
    "cho_map = folium.Choropleth(\n",
    "    geo_data=geoJSON,\n",
    "    data=volume_sold_df[['County','Volume Sold (Liters)']],\n",
    "    name='choropleth',\n",
    "    fill_color='YlGn',\n",
    "    fill_opacity=0.7,\n",
    "    key_on = 'feature.properties.COUNTY',\n",
    "    line_opacity=0.2,\n",
    "    legend_name='Volume Sold (Liters)',\n",
    "    highlight=True,\n",
    "    line_color='green',\n",
    "    columns = ['County','Volume Sold (Liters)'], reset = True,\n",
    ").add_to(td_map)\n",
    "\n",
    "cho_map.geojson.add_child(folium.features.GeoJsonTooltip(['COUNTY'], labels = False))\n",
    "folium.LayerControl().add_to(td_map)\n",
    "td_map.save('foliumChoropleth_map_volume_sold.html')\n",
    "td_map"
   ]
  },
  {
   "cell_type": "code",
   "execution_count": null,
   "metadata": {},
   "outputs": [],
   "source": [
    "td_map = folium.Map(location = [41.8780, -93.0977], \n",
    "                    zoom_start= 10,tiles = \"cartodbpositron\")\n",
    "\n",
    "cho_map = folium.Choropleth(\n",
    "    geo_data=geoJSON,\n",
    "    data=profit_df[['County','Profit']],\n",
    "    name='choropleth',\n",
    "    fill_color='YlGn',\n",
    "    fill_opacity=0.7,\n",
    "    key_on = 'feature.properties.COUNTY',\n",
    "    line_opacity=0.2,\n",
    "    legend_name='Profit',\n",
    "    highlight=True,\n",
    "    line_color='green',\n",
    "    columns = ['County','Profit'], reset = True,\n",
    ").add_to(td_map)\n",
    "\n",
    "cho_map.geojson.add_child(folium.features.GeoJsonTooltip(['COUNTY'], labels = False))\n",
    "folium.LayerControl().add_to(td_map)\n",
    "#td_map.save('foliumChoroplethMap_trip_distance.html')\n",
    "td_map"
   ]
  }
 ],
 "metadata": {
  "kernelspec": {
   "display_name": "Python 3",
   "language": "python",
   "name": "python3"
  },
  "language_info": {
   "codemirror_mode": {
    "name": "ipython",
    "version": 3
   },
   "file_extension": ".py",
   "mimetype": "text/x-python",
   "name": "python",
   "nbconvert_exporter": "python",
   "pygments_lexer": "ipython3",
   "version": "3.6.9"
  }
 },
 "nbformat": 4,
 "nbformat_minor": 4
}
